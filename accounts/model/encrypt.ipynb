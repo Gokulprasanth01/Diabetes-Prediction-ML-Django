{
 "cells": [
  {
   "cell_type": "code",
   "execution_count": 1,
   "metadata": {},
   "outputs": [],
   "source": [
    "import pandas as pd\n",
    "from sklearn.model_selection import train_test_split\n",
    "from sklearn.linear_model import LogisticRegression\n",
    "from sklearn.metrics import accuracy_score\n",
    "from cryptography.hazmat.primitives.ciphers import Cipher, algorithms, modes\n",
    "from cryptography.hazmat.backends import default_backend\n",
    "import base64"
   ]
  },
  {
   "cell_type": "code",
   "execution_count": 2,
   "metadata": {},
   "outputs": [],
   "source": [
    "# Function to pad data to a multiple of AES block size\n",
    "def pad_data(data):\n",
    "    block_size = algorithms.AES.block_size // 8\n",
    "    padding_length = block_size - (len(data) % block_size)\n",
    "    padding = bytes([padding_length] * padding_length)\n",
    "    return data + padding\n"
   ]
  },
  {
   "cell_type": "code",
   "execution_count": 3,
   "metadata": {},
   "outputs": [],
   "source": [
    "# Function to encrypt data using AES\n",
    "def encrypt_data(key, data):\n",
    "    cipher = Cipher(algorithms.AES(key), modes.ECB(), backend=default_backend())\n",
    "    encryptor = cipher.encryptor()\n",
    "    return encryptor.update(pad_data(data)) + encryptor.finalize()\n"
   ]
  },
  {
   "cell_type": "code",
   "execution_count": 4,
   "metadata": {},
   "outputs": [],
   "source": [
    "# Function to encrypt each cell in a DataFrame\n",
    "def encrypt_dataframe(df, key):\n",
    "    return df.applymap(lambda cell: encrypt_data(key, str(cell).encode('utf-8')))\n"
   ]
  },
  {
   "cell_type": "code",
   "execution_count": 5,
   "metadata": {},
   "outputs": [],
   "source": [
    "# Load the dataset from CSV file\n",
    "file_path = \"D:\\All pdf\\semester 8\\DATA SECURITY AND PRIVACY\\project\\Django-ml-Healthcare-Prediction-Website-main\\data\\Diabetes_XTrain.csv\"  # Replace 'your_dataset.csv' with the actual file path\n",
    "df = pd.read_csv(file_path)\n"
   ]
  },
  {
   "cell_type": "code",
   "execution_count": 6,
   "metadata": {},
   "outputs": [],
   "source": [
    "# Separate features (X) and labels (y)\n",
    "x1 = df[['Pregnancies',\t'Glucose',\t'BloodPressure',\t'SkinThickness',\t'Insulin'\t,'BMI','DiabetesPedigreeFunction','Age']]\n",
    "\n"
   ]
  },
  {
   "cell_type": "code",
   "execution_count": 7,
   "metadata": {},
   "outputs": [],
   "source": [
    "# Replace this with a secure key generation and storage mechanism\n",
    "key = b'Sixteen byte key'\n",
    "\n"
   ]
  },
  {
   "cell_type": "code",
   "execution_count": 8,
   "metadata": {},
   "outputs": [
    {
     "name": "stderr",
     "output_type": "stream",
     "text": [
      "C:\\Users\\Gokul01\\AppData\\Local\\Temp\\ipykernel_7724\\828654061.py:3: FutureWarning: DataFrame.applymap has been deprecated. Use DataFrame.map instead.\n",
      "  return df.applymap(lambda cell: encrypt_data(key, str(cell).encode('utf-8')))\n"
     ]
    }
   ],
   "source": [
    "# Encrypt the dataset\n",
    "encrypted_X = encrypt_dataframe(x1, key)\n",
    "\n",
    "\n"
   ]
  },
  {
   "cell_type": "code",
   "execution_count": 9,
   "metadata": {},
   "outputs": [
    {
     "name": "stderr",
     "output_type": "stream",
     "text": [
      "C:\\Users\\Gokul01\\AppData\\Local\\Temp\\ipykernel_7724\\1132569326.py:2: FutureWarning: DataFrame.applymap has been deprecated. Use DataFrame.map instead.\n",
      "  encrypted_X_base64 = encrypted_X.applymap(lambda cell: base64.b64encode(cell).decode('utf-8'))\n"
     ]
    }
   ],
   "source": [
    "# Convert the encrypted DataFrame to base64\n",
    "encrypted_X_base64 = encrypted_X.applymap(lambda cell: base64.b64encode(cell).decode('utf-8'))\n"
   ]
  },
  {
   "cell_type": "code",
   "execution_count": 10,
   "metadata": {},
   "outputs": [],
   "source": [
    "# Function to convert base64 to integer\n",
    "# Convert the encrypted DataFrame to base64\n",
    "encrypted_X_base64 = encrypted_X.applymap(lambda cell: base64.b64encode(cell).decode('utf-8'))\n",
    "\n",
    "def base64_to_int(cell):\n",
    "    decoded_data = base64.b64decode(cell)\n",
    "    return int.from_bytes(decoded_data, byteorder='big')\n"
   ]
  },
  {
   "cell_type": "code",
   "execution_count": 11,
   "metadata": {},
   "outputs": [
    {
     "name": "stdout",
     "output_type": "stream",
     "text": [
      "                                 Pregnancies  \\\n",
      "0    133943965555388370892904681412942943395   \n",
      "1    126269150474012218484727711570232441620   \n",
      "2    133943965555388370892904681412942943395   \n",
      "3    175970349496071460795192350191643182147   \n",
      "4    151667969604632531089053314866777052925   \n",
      "..                                       ...   \n",
      "571  175970349496071460795192350191643182147   \n",
      "572  133943965555388370892904681412942943395   \n",
      "573  175970349496071460795192350191643182147   \n",
      "574  151667969604632531089053314866777052925   \n",
      "575  202481013484367474377096935081133061563   \n",
      "\n",
      "                                     Glucose  \\\n",
      "0    247720047578508078245724219194226654470   \n",
      "1    340280344210937387379894257997655045996   \n",
      "2    253771914553505651832172034524317204929   \n",
      "3      3398371731333144097428373037942256647   \n",
      "4    239188066023041921995737145596849573456   \n",
      "..                                       ...   \n",
      "571  113359232148962162006368953977956540387   \n",
      "572   77530602375195360673782775358201856520   \n",
      "573  324190212456036462690831940710845636812   \n",
      "574   86654544817729514642856054209487526767   \n",
      "575  191877673750666797044825682914369182150   \n",
      "\n",
      "                               BloodPressure  \\\n",
      "0    191877673750666797044825682914369182150   \n",
      "1     26566307641840019814544515675011012195   \n",
      "2     26566307641840019814544515675011012195   \n",
      "3    299430115869425101103048990308735072669   \n",
      "4    188349618623115220850744023339140203651   \n",
      "..                                       ...   \n",
      "571  255452919831332950695509420884925843081   \n",
      "572  247855790614569821473061297434114628126   \n",
      "573  255452919831332950695509420884925843081   \n",
      "574   45377193394277472493219394370619382814   \n",
      "575  173542790730476339612273791138452228957   \n",
      "\n",
      "                               SkinThickness  \\\n",
      "0    281750120310647310936447667202117344093   \n",
      "1    235378734426795161461769490877806098544   \n",
      "2    235378734426795161461769490877806098544   \n",
      "3    123135035994675826373528870759492926784   \n",
      "4    123135035994675826373528870759492926784   \n",
      "..                                       ...   \n",
      "571  235378734426795161461769490877806098544   \n",
      "572  325276786515621668685936195764569763165   \n",
      "573   74411916897863050763371616464953365397   \n",
      "574   71099236939536160933506200895701938625   \n",
      "575   71099236939536160933506200895701938625   \n",
      "\n",
      "                                     Insulin  \\\n",
      "0     75651825280872006290818126404269370129   \n",
      "1    235378734426795161461769490877806098544   \n",
      "2    235378734426795161461769490877806098544   \n",
      "3    185986809436594788407870137887182715938   \n",
      "4     75309917961211362760300257935933577626   \n",
      "..                                       ...   \n",
      "571  235378734426795161461769490877806098544   \n",
      "572  183225062681474356179842312890816287703   \n",
      "573  125058170295156429537453066949409539871   \n",
      "574   45340878707382460823965559195683463501   \n",
      "575   26566307641840019814544515675011012195   \n",
      "\n",
      "                                         BMI  \\\n",
      "0     88689991309436369870392601535063231043   \n",
      "1     86619907091548258293369800815800797050   \n",
      "2    140680352645087008440285209306464471450   \n",
      "3    307678212567652714672582686397374679440   \n",
      "4    276996563104024804827336113495535326844   \n",
      "..                                       ...   \n",
      "571   83222361447710449578863735719479585673   \n",
      "572  190713369663616626312039414777561668695   \n",
      "573  276431894860751587882484729045884666906   \n",
      "574  167785288931558267149759449243868082067   \n",
      "575   51154865358862951656837299546889483862   \n",
      "\n",
      "                    DiabetesPedigreeFunction  \\\n",
      "0    229810667588487942818646131335634118164   \n",
      "1    171721319910036605854325397091300066206   \n",
      "2    232746268761594736859423975795953250447   \n",
      "3     51440956072980534555327851431791199188   \n",
      "4    273650643563016773671374661811076436559   \n",
      "..                                       ...   \n",
      "571  197240609634934573804335164810078312328   \n",
      "572  107052127759525960419949021645134422559   \n",
      "573   90456601672132573103642657450976519018   \n",
      "574  158733659273398584594320033086393927329   \n",
      "575   52370329150907886316429969725917263681   \n",
      "\n",
      "                                         Age  \n",
      "0    124534720651157872959936888812647303160  \n",
      "1     72646019241493331261528294094974946797  \n",
      "2    284787536261577897572349211283911909311  \n",
      "3    337121084858796266282045402617902992971  \n",
      "4    230085833649694011347543474264271456482  \n",
      "..                                       ...  \n",
      "571  230085833649694011347543474264271456482  \n",
      "572   54388131537106033501899794197886611418  \n",
      "573  214995015488020052722577653558024637760  \n",
      "574  196327861705873619667116821563899640251  \n",
      "575   71099236939536160933506200895701938625  \n",
      "\n",
      "[576 rows x 8 columns]\n"
     ]
    },
    {
     "name": "stderr",
     "output_type": "stream",
     "text": [
      "C:\\Users\\Gokul01\\AppData\\Local\\Temp\\ipykernel_7724\\3167807421.py:2: FutureWarning: DataFrame.applymap has been deprecated. Use DataFrame.map instead.\n",
      "  encrypted_X_int = encrypted_X_base64.applymap(base64_to_int)\n"
     ]
    }
   ],
   "source": [
    "# Convert base64 to integers\n",
    "encrypted_X_int = encrypted_X_base64.applymap(base64_to_int)\n",
    "\n",
    "print(encrypted_X_int)"
   ]
  },
  {
   "cell_type": "code",
   "execution_count": 12,
   "metadata": {},
   "outputs": [
    {
     "data": {
      "text/html": [
       "<div>\n",
       "<style scoped>\n",
       "    .dataframe tbody tr th:only-of-type {\n",
       "        vertical-align: middle;\n",
       "    }\n",
       "\n",
       "    .dataframe tbody tr th {\n",
       "        vertical-align: top;\n",
       "    }\n",
       "\n",
       "    .dataframe thead th {\n",
       "        text-align: right;\n",
       "    }\n",
       "</style>\n",
       "<table border=\"1\" class=\"dataframe\">\n",
       "  <thead>\n",
       "    <tr style=\"text-align: right;\">\n",
       "      <th></th>\n",
       "      <th>Outcome</th>\n",
       "    </tr>\n",
       "  </thead>\n",
       "  <tbody>\n",
       "    <tr>\n",
       "      <th>0</th>\n",
       "      <td>1</td>\n",
       "    </tr>\n",
       "    <tr>\n",
       "      <th>1</th>\n",
       "      <td>0</td>\n",
       "    </tr>\n",
       "    <tr>\n",
       "      <th>2</th>\n",
       "      <td>1</td>\n",
       "    </tr>\n",
       "    <tr>\n",
       "      <th>3</th>\n",
       "      <td>1</td>\n",
       "    </tr>\n",
       "    <tr>\n",
       "      <th>4</th>\n",
       "      <td>0</td>\n",
       "    </tr>\n",
       "    <tr>\n",
       "      <th>...</th>\n",
       "      <td>...</td>\n",
       "    </tr>\n",
       "    <tr>\n",
       "      <th>571</th>\n",
       "      <td>0</td>\n",
       "    </tr>\n",
       "    <tr>\n",
       "      <th>572</th>\n",
       "      <td>1</td>\n",
       "    </tr>\n",
       "    <tr>\n",
       "      <th>573</th>\n",
       "      <td>0</td>\n",
       "    </tr>\n",
       "    <tr>\n",
       "      <th>574</th>\n",
       "      <td>0</td>\n",
       "    </tr>\n",
       "    <tr>\n",
       "      <th>575</th>\n",
       "      <td>0</td>\n",
       "    </tr>\n",
       "  </tbody>\n",
       "</table>\n",
       "<p>576 rows × 1 columns</p>\n",
       "</div>"
      ],
      "text/plain": [
       "     Outcome\n",
       "0          1\n",
       "1          0\n",
       "2          1\n",
       "3          1\n",
       "4          0\n",
       "..       ...\n",
       "571        0\n",
       "572        1\n",
       "573        0\n",
       "574        0\n",
       "575        0\n",
       "\n",
       "[576 rows x 1 columns]"
      ]
     },
     "execution_count": 12,
     "metadata": {},
     "output_type": "execute_result"
    }
   ],
   "source": [
    "y = pd.read_csv(r\"D:\\All pdf\\semester 8\\DATA SECURITY AND PRIVACY\\project\\Django-ml-Healthcare-Prediction-Website-main\\data\\Diabetes_YTrain.csv\")\n",
    "y"
   ]
  },
  {
   "cell_type": "code",
   "execution_count": 13,
   "metadata": {},
   "outputs": [],
   "source": [
    "X_train, X_test, y_train, y_test = train_test_split(df, y, test_size=0.2, random_state=42)"
   ]
  },
  {
   "cell_type": "code",
   "execution_count": 14,
   "metadata": {},
   "outputs": [],
   "source": [
    "# Initialize the logistic regression model\n",
    "model = LogisticRegression()\n",
    "\n"
   ]
  },
  {
   "cell_type": "code",
   "execution_count": 15,
   "metadata": {},
   "outputs": [
    {
     "name": "stderr",
     "output_type": "stream",
     "text": [
      "c:\\Users\\Gokul01\\AppData\\Local\\Programs\\Python\\Python311\\Lib\\site-packages\\sklearn\\utils\\validation.py:1183: DataConversionWarning: A column-vector y was passed when a 1d array was expected. Please change the shape of y to (n_samples, ), for example using ravel().\n",
      "  y = column_or_1d(y, warn=True)\n",
      "c:\\Users\\Gokul01\\AppData\\Local\\Programs\\Python\\Python311\\Lib\\site-packages\\sklearn\\linear_model\\_logistic.py:460: ConvergenceWarning: lbfgs failed to converge (status=1):\n",
      "STOP: TOTAL NO. of ITERATIONS REACHED LIMIT.\n",
      "\n",
      "Increase the number of iterations (max_iter) or scale the data as shown in:\n",
      "    https://scikit-learn.org/stable/modules/preprocessing.html\n",
      "Please also refer to the documentation for alternative solver options:\n",
      "    https://scikit-learn.org/stable/modules/linear_model.html#logistic-regression\n",
      "  n_iter_i = _check_optimize_result(\n"
     ]
    },
    {
     "data": {
      "text/html": [
       "<style>#sk-container-id-1 {color: black;}#sk-container-id-1 pre{padding: 0;}#sk-container-id-1 div.sk-toggleable {background-color: white;}#sk-container-id-1 label.sk-toggleable__label {cursor: pointer;display: block;width: 100%;margin-bottom: 0;padding: 0.3em;box-sizing: border-box;text-align: center;}#sk-container-id-1 label.sk-toggleable__label-arrow:before {content: \"▸\";float: left;margin-right: 0.25em;color: #696969;}#sk-container-id-1 label.sk-toggleable__label-arrow:hover:before {color: black;}#sk-container-id-1 div.sk-estimator:hover label.sk-toggleable__label-arrow:before {color: black;}#sk-container-id-1 div.sk-toggleable__content {max-height: 0;max-width: 0;overflow: hidden;text-align: left;background-color: #f0f8ff;}#sk-container-id-1 div.sk-toggleable__content pre {margin: 0.2em;color: black;border-radius: 0.25em;background-color: #f0f8ff;}#sk-container-id-1 input.sk-toggleable__control:checked~div.sk-toggleable__content {max-height: 200px;max-width: 100%;overflow: auto;}#sk-container-id-1 input.sk-toggleable__control:checked~label.sk-toggleable__label-arrow:before {content: \"▾\";}#sk-container-id-1 div.sk-estimator input.sk-toggleable__control:checked~label.sk-toggleable__label {background-color: #d4ebff;}#sk-container-id-1 div.sk-label input.sk-toggleable__control:checked~label.sk-toggleable__label {background-color: #d4ebff;}#sk-container-id-1 input.sk-hidden--visually {border: 0;clip: rect(1px 1px 1px 1px);clip: rect(1px, 1px, 1px, 1px);height: 1px;margin: -1px;overflow: hidden;padding: 0;position: absolute;width: 1px;}#sk-container-id-1 div.sk-estimator {font-family: monospace;background-color: #f0f8ff;border: 1px dotted black;border-radius: 0.25em;box-sizing: border-box;margin-bottom: 0.5em;}#sk-container-id-1 div.sk-estimator:hover {background-color: #d4ebff;}#sk-container-id-1 div.sk-parallel-item::after {content: \"\";width: 100%;border-bottom: 1px solid gray;flex-grow: 1;}#sk-container-id-1 div.sk-label:hover label.sk-toggleable__label {background-color: #d4ebff;}#sk-container-id-1 div.sk-serial::before {content: \"\";position: absolute;border-left: 1px solid gray;box-sizing: border-box;top: 0;bottom: 0;left: 50%;z-index: 0;}#sk-container-id-1 div.sk-serial {display: flex;flex-direction: column;align-items: center;background-color: white;padding-right: 0.2em;padding-left: 0.2em;position: relative;}#sk-container-id-1 div.sk-item {position: relative;z-index: 1;}#sk-container-id-1 div.sk-parallel {display: flex;align-items: stretch;justify-content: center;background-color: white;position: relative;}#sk-container-id-1 div.sk-item::before, #sk-container-id-1 div.sk-parallel-item::before {content: \"\";position: absolute;border-left: 1px solid gray;box-sizing: border-box;top: 0;bottom: 0;left: 50%;z-index: -1;}#sk-container-id-1 div.sk-parallel-item {display: flex;flex-direction: column;z-index: 1;position: relative;background-color: white;}#sk-container-id-1 div.sk-parallel-item:first-child::after {align-self: flex-end;width: 50%;}#sk-container-id-1 div.sk-parallel-item:last-child::after {align-self: flex-start;width: 50%;}#sk-container-id-1 div.sk-parallel-item:only-child::after {width: 0;}#sk-container-id-1 div.sk-dashed-wrapped {border: 1px dashed gray;margin: 0 0.4em 0.5em 0.4em;box-sizing: border-box;padding-bottom: 0.4em;background-color: white;}#sk-container-id-1 div.sk-label label {font-family: monospace;font-weight: bold;display: inline-block;line-height: 1.2em;}#sk-container-id-1 div.sk-label-container {text-align: center;}#sk-container-id-1 div.sk-container {/* jupyter's `normalize.less` sets `[hidden] { display: none; }` but bootstrap.min.css set `[hidden] { display: none !important; }` so we also need the `!important` here to be able to override the default hidden behavior on the sphinx rendered scikit-learn.org. See: https://github.com/scikit-learn/scikit-learn/issues/21755 */display: inline-block !important;position: relative;}#sk-container-id-1 div.sk-text-repr-fallback {display: none;}</style><div id=\"sk-container-id-1\" class=\"sk-top-container\"><div class=\"sk-text-repr-fallback\"><pre>LogisticRegression()</pre><b>In a Jupyter environment, please rerun this cell to show the HTML representation or trust the notebook. <br />On GitHub, the HTML representation is unable to render, please try loading this page with nbviewer.org.</b></div><div class=\"sk-container\" hidden><div class=\"sk-item\"><div class=\"sk-estimator sk-toggleable\"><input class=\"sk-toggleable__control sk-hidden--visually\" id=\"sk-estimator-id-1\" type=\"checkbox\" checked><label for=\"sk-estimator-id-1\" class=\"sk-toggleable__label sk-toggleable__label-arrow\">LogisticRegression</label><div class=\"sk-toggleable__content\"><pre>LogisticRegression()</pre></div></div></div></div></div>"
      ],
      "text/plain": [
       "LogisticRegression()"
      ]
     },
     "execution_count": 15,
     "metadata": {},
     "output_type": "execute_result"
    }
   ],
   "source": [
    "model.fit(X_train, y_train)\n"
   ]
  },
  {
   "cell_type": "code",
   "execution_count": 16,
   "metadata": {},
   "outputs": [
    {
     "name": "stderr",
     "output_type": "stream",
     "text": [
      "c:\\Users\\Gokul01\\AppData\\Local\\Programs\\Python\\Python311\\Lib\\site-packages\\sklearn\\base.py:465: UserWarning: X does not have valid feature names, but LogisticRegression was fitted with feature names\n",
      "  warnings.warn(\n"
     ]
    }
   ],
   "source": [
    "predictions = model.predict(X_test.values.tolist())\n"
   ]
  },
  {
   "cell_type": "code",
   "execution_count": 17,
   "metadata": {},
   "outputs": [
    {
     "name": "stdout",
     "output_type": "stream",
     "text": [
      "Model Accuracy: 0.8103448275862069\n"
     ]
    }
   ],
   "source": [
    "# Evaluate the model\n",
    "accuracy = accuracy_score(y_test, predictions)\n",
    "print(f\"Model Accuracy: {accuracy}\")\n",
    "\n"
   ]
  },
  {
   "cell_type": "code",
   "execution_count": null,
   "metadata": {},
   "outputs": [],
   "source": []
  },
  {
   "cell_type": "code",
   "execution_count": 41,
   "metadata": {},
   "outputs": [],
   "source": [
    "# Save the encrypted dataset to a new CSV file\n",
    "encrypted_X_int.to_csv('daibetes_enc.csv', index=False)\n"
   ]
  },
  {
   "cell_type": "code",
   "execution_count": 18,
   "metadata": {},
   "outputs": [],
   "source": [
    "import numpy as np\n",
    "\n",
    "X1 = np.array([8,110,76,0,0,27.8,0.237,58]).reshape(1, -1)"
   ]
  },
  {
   "cell_type": "code",
   "execution_count": 19,
   "metadata": {},
   "outputs": [
    {
     "name": "stdout",
     "output_type": "stream",
     "text": [
      "[0]\n"
     ]
    },
    {
     "name": "stderr",
     "output_type": "stream",
     "text": [
      "c:\\Users\\Gokul01\\AppData\\Local\\Programs\\Python\\Python311\\Lib\\site-packages\\sklearn\\base.py:465: UserWarning: X does not have valid feature names, but LogisticRegression was fitted with feature names\n",
      "  warnings.warn(\n"
     ]
    }
   ],
   "source": [
    "predictions = model.predict(X1)\n",
    "print(predictions)"
   ]
  },
  {
   "cell_type": "code",
   "execution_count": null,
   "metadata": {},
   "outputs": [],
   "source": [
    "# Function to decrypt data using AES\n",
    "def decrypt_data(key, encrypted_data):\n",
    "    cipher = Cipher(algorithms.AES(key), modes.ECB(), backend=default_backend())\n",
    "    decryptor = cipher.decryptor()\n",
    "    decrypted_data = decryptor.update(encrypted_data) + decryptor.finalize()\n",
    "    return decrypted_data.rstrip(b'\\x00')\n"
   ]
  },
  {
   "cell_type": "code",
   "execution_count": 28,
   "metadata": {},
   "outputs": [],
   "source": [
    "\n",
    "# Function to decrypt each cell in a DataFrame\n",
    "def decrypt_dataframe(df, key):\n",
    "    return df.applymap(lambda cell: decrypt_data(key, cell).decode('utf-8') if isinstance(cell, bytes) else cell)"
   ]
  },
  {
   "cell_type": "code",
   "execution_count": 29,
   "metadata": {},
   "outputs": [
    {
     "name": "stderr",
     "output_type": "stream",
     "text": [
      "C:\\Users\\Gokul01\\AppData\\Local\\Temp\\ipykernel_17688\\1958926728.py:3: FutureWarning: DataFrame.applymap has been deprecated. Use DataFrame.map instead.\n",
      "  return df.applymap(lambda cell: decrypt_data(key, cell).decode('utf-8') if isinstance(cell, bytes) else cell)\n"
     ]
    }
   ],
   "source": [
    "# Decrypt the dataset before training the model\n",
    "decrypted_X = decrypt_dataframe(encrypted_X, key)\n"
   ]
  },
  {
   "cell_type": "code",
   "execution_count": 30,
   "metadata": {},
   "outputs": [],
   "source": [
    "decrypted_X.to_csv('decryptred.csv', index=False)\n"
   ]
  },
  {
   "cell_type": "code",
   "execution_count": 31,
   "metadata": {},
   "outputs": [],
   "source": [
    "# Split the data into training and testing sets\n",
    "X_train, X_test, y_train, y_test = train_test_split(df, y, test_size=0.2, random_state=42)"
   ]
  },
  {
   "cell_type": "code",
   "execution_count": 32,
   "metadata": {},
   "outputs": [],
   "source": [
    "# Initialize the logistic regression model\n",
    "model = LogisticRegression()\n",
    "\n"
   ]
  },
  {
   "cell_type": "code",
   "execution_count": 34,
   "metadata": {},
   "outputs": [
    {
     "ename": "ValueError",
     "evalue": "could not convert string to float: b'#\\x83!\\xb0\\x0f\\xa1\\xde\\xe9\\x88\\x84]\\x91\\xc4:\\xc0\\x7f'",
     "output_type": "error",
     "traceback": [
      "\u001b[1;31m---------------------------------------------------------------------------\u001b[0m",
      "\u001b[1;31mValueError\u001b[0m                                Traceback (most recent call last)",
      "Cell \u001b[1;32mIn[34], line 2\u001b[0m\n\u001b[0;32m      1\u001b[0m \u001b[38;5;66;03m# Train the model\u001b[39;00m\n\u001b[1;32m----> 2\u001b[0m \u001b[43mmodel\u001b[49m\u001b[38;5;241;43m.\u001b[39;49m\u001b[43mfit\u001b[49m\u001b[43m(\u001b[49m\u001b[43mX_train\u001b[49m\u001b[38;5;241;43m.\u001b[39;49m\u001b[43mvalues\u001b[49m\u001b[43m,\u001b[49m\u001b[43m \u001b[49m\u001b[43my_train\u001b[49m\u001b[43m)\u001b[49m\n",
      "File \u001b[1;32md:\\All pdf\\semester 8\\DATA SECURITY AND PRIVACY\\project\\Django-ml-Healthcare-Prediction-Website-main\\venv\\Lib\\site-packages\\sklearn\\base.py:1152\u001b[0m, in \u001b[0;36m_fit_context.<locals>.decorator.<locals>.wrapper\u001b[1;34m(estimator, *args, **kwargs)\u001b[0m\n\u001b[0;32m   1145\u001b[0m     estimator\u001b[38;5;241m.\u001b[39m_validate_params()\n\u001b[0;32m   1147\u001b[0m \u001b[38;5;28;01mwith\u001b[39;00m config_context(\n\u001b[0;32m   1148\u001b[0m     skip_parameter_validation\u001b[38;5;241m=\u001b[39m(\n\u001b[0;32m   1149\u001b[0m         prefer_skip_nested_validation \u001b[38;5;129;01mor\u001b[39;00m global_skip_validation\n\u001b[0;32m   1150\u001b[0m     )\n\u001b[0;32m   1151\u001b[0m ):\n\u001b[1;32m-> 1152\u001b[0m     \u001b[38;5;28;01mreturn\u001b[39;00m \u001b[43mfit_method\u001b[49m\u001b[43m(\u001b[49m\u001b[43mestimator\u001b[49m\u001b[43m,\u001b[49m\u001b[43m \u001b[49m\u001b[38;5;241;43m*\u001b[39;49m\u001b[43margs\u001b[49m\u001b[43m,\u001b[49m\u001b[43m \u001b[49m\u001b[38;5;241;43m*\u001b[39;49m\u001b[38;5;241;43m*\u001b[39;49m\u001b[43mkwargs\u001b[49m\u001b[43m)\u001b[49m\n",
      "File \u001b[1;32md:\\All pdf\\semester 8\\DATA SECURITY AND PRIVACY\\project\\Django-ml-Healthcare-Prediction-Website-main\\venv\\Lib\\site-packages\\sklearn\\linear_model\\_logistic.py:1208\u001b[0m, in \u001b[0;36mLogisticRegression.fit\u001b[1;34m(self, X, y, sample_weight)\u001b[0m\n\u001b[0;32m   1205\u001b[0m \u001b[38;5;28;01melse\u001b[39;00m:\n\u001b[0;32m   1206\u001b[0m     _dtype \u001b[38;5;241m=\u001b[39m [np\u001b[38;5;241m.\u001b[39mfloat64, np\u001b[38;5;241m.\u001b[39mfloat32]\n\u001b[1;32m-> 1208\u001b[0m X, y \u001b[38;5;241m=\u001b[39m \u001b[38;5;28;43mself\u001b[39;49m\u001b[38;5;241;43m.\u001b[39;49m\u001b[43m_validate_data\u001b[49m\u001b[43m(\u001b[49m\n\u001b[0;32m   1209\u001b[0m \u001b[43m    \u001b[49m\u001b[43mX\u001b[49m\u001b[43m,\u001b[49m\n\u001b[0;32m   1210\u001b[0m \u001b[43m    \u001b[49m\u001b[43my\u001b[49m\u001b[43m,\u001b[49m\n\u001b[0;32m   1211\u001b[0m \u001b[43m    \u001b[49m\u001b[43maccept_sparse\u001b[49m\u001b[38;5;241;43m=\u001b[39;49m\u001b[38;5;124;43m\"\u001b[39;49m\u001b[38;5;124;43mcsr\u001b[39;49m\u001b[38;5;124;43m\"\u001b[39;49m\u001b[43m,\u001b[49m\n\u001b[0;32m   1212\u001b[0m \u001b[43m    \u001b[49m\u001b[43mdtype\u001b[49m\u001b[38;5;241;43m=\u001b[39;49m\u001b[43m_dtype\u001b[49m\u001b[43m,\u001b[49m\n\u001b[0;32m   1213\u001b[0m \u001b[43m    \u001b[49m\u001b[43morder\u001b[49m\u001b[38;5;241;43m=\u001b[39;49m\u001b[38;5;124;43m\"\u001b[39;49m\u001b[38;5;124;43mC\u001b[39;49m\u001b[38;5;124;43m\"\u001b[39;49m\u001b[43m,\u001b[49m\n\u001b[0;32m   1214\u001b[0m \u001b[43m    \u001b[49m\u001b[43maccept_large_sparse\u001b[49m\u001b[38;5;241;43m=\u001b[39;49m\u001b[43msolver\u001b[49m\u001b[43m \u001b[49m\u001b[38;5;129;43;01mnot\u001b[39;49;00m\u001b[43m \u001b[49m\u001b[38;5;129;43;01min\u001b[39;49;00m\u001b[43m \u001b[49m\u001b[43m[\u001b[49m\u001b[38;5;124;43m\"\u001b[39;49m\u001b[38;5;124;43mliblinear\u001b[39;49m\u001b[38;5;124;43m\"\u001b[39;49m\u001b[43m,\u001b[49m\u001b[43m \u001b[49m\u001b[38;5;124;43m\"\u001b[39;49m\u001b[38;5;124;43msag\u001b[39;49m\u001b[38;5;124;43m\"\u001b[39;49m\u001b[43m,\u001b[49m\u001b[43m \u001b[49m\u001b[38;5;124;43m\"\u001b[39;49m\u001b[38;5;124;43msaga\u001b[39;49m\u001b[38;5;124;43m\"\u001b[39;49m\u001b[43m]\u001b[49m\u001b[43m,\u001b[49m\n\u001b[0;32m   1215\u001b[0m \u001b[43m\u001b[49m\u001b[43m)\u001b[49m\n\u001b[0;32m   1216\u001b[0m check_classification_targets(y)\n\u001b[0;32m   1217\u001b[0m \u001b[38;5;28mself\u001b[39m\u001b[38;5;241m.\u001b[39mclasses_ \u001b[38;5;241m=\u001b[39m np\u001b[38;5;241m.\u001b[39munique(y)\n",
      "File \u001b[1;32md:\\All pdf\\semester 8\\DATA SECURITY AND PRIVACY\\project\\Django-ml-Healthcare-Prediction-Website-main\\venv\\Lib\\site-packages\\sklearn\\base.py:622\u001b[0m, in \u001b[0;36mBaseEstimator._validate_data\u001b[1;34m(self, X, y, reset, validate_separately, cast_to_ndarray, **check_params)\u001b[0m\n\u001b[0;32m    620\u001b[0m         y \u001b[38;5;241m=\u001b[39m check_array(y, input_name\u001b[38;5;241m=\u001b[39m\u001b[38;5;124m\"\u001b[39m\u001b[38;5;124my\u001b[39m\u001b[38;5;124m\"\u001b[39m, \u001b[38;5;241m*\u001b[39m\u001b[38;5;241m*\u001b[39mcheck_y_params)\n\u001b[0;32m    621\u001b[0m     \u001b[38;5;28;01melse\u001b[39;00m:\n\u001b[1;32m--> 622\u001b[0m         X, y \u001b[38;5;241m=\u001b[39m \u001b[43mcheck_X_y\u001b[49m\u001b[43m(\u001b[49m\u001b[43mX\u001b[49m\u001b[43m,\u001b[49m\u001b[43m \u001b[49m\u001b[43my\u001b[49m\u001b[43m,\u001b[49m\u001b[43m \u001b[49m\u001b[38;5;241;43m*\u001b[39;49m\u001b[38;5;241;43m*\u001b[39;49m\u001b[43mcheck_params\u001b[49m\u001b[43m)\u001b[49m\n\u001b[0;32m    623\u001b[0m     out \u001b[38;5;241m=\u001b[39m X, y\n\u001b[0;32m    625\u001b[0m \u001b[38;5;28;01mif\u001b[39;00m \u001b[38;5;129;01mnot\u001b[39;00m no_val_X \u001b[38;5;129;01mand\u001b[39;00m check_params\u001b[38;5;241m.\u001b[39mget(\u001b[38;5;124m\"\u001b[39m\u001b[38;5;124mensure_2d\u001b[39m\u001b[38;5;124m\"\u001b[39m, \u001b[38;5;28;01mTrue\u001b[39;00m):\n",
      "File \u001b[1;32md:\\All pdf\\semester 8\\DATA SECURITY AND PRIVACY\\project\\Django-ml-Healthcare-Prediction-Website-main\\venv\\Lib\\site-packages\\sklearn\\utils\\validation.py:1146\u001b[0m, in \u001b[0;36mcheck_X_y\u001b[1;34m(X, y, accept_sparse, accept_large_sparse, dtype, order, copy, force_all_finite, ensure_2d, allow_nd, multi_output, ensure_min_samples, ensure_min_features, y_numeric, estimator)\u001b[0m\n\u001b[0;32m   1141\u001b[0m         estimator_name \u001b[38;5;241m=\u001b[39m _check_estimator_name(estimator)\n\u001b[0;32m   1142\u001b[0m     \u001b[38;5;28;01mraise\u001b[39;00m \u001b[38;5;167;01mValueError\u001b[39;00m(\n\u001b[0;32m   1143\u001b[0m         \u001b[38;5;124mf\u001b[39m\u001b[38;5;124m\"\u001b[39m\u001b[38;5;132;01m{\u001b[39;00mestimator_name\u001b[38;5;132;01m}\u001b[39;00m\u001b[38;5;124m requires y to be passed, but the target y is None\u001b[39m\u001b[38;5;124m\"\u001b[39m\n\u001b[0;32m   1144\u001b[0m     )\n\u001b[1;32m-> 1146\u001b[0m X \u001b[38;5;241m=\u001b[39m \u001b[43mcheck_array\u001b[49m\u001b[43m(\u001b[49m\n\u001b[0;32m   1147\u001b[0m \u001b[43m    \u001b[49m\u001b[43mX\u001b[49m\u001b[43m,\u001b[49m\n\u001b[0;32m   1148\u001b[0m \u001b[43m    \u001b[49m\u001b[43maccept_sparse\u001b[49m\u001b[38;5;241;43m=\u001b[39;49m\u001b[43maccept_sparse\u001b[49m\u001b[43m,\u001b[49m\n\u001b[0;32m   1149\u001b[0m \u001b[43m    \u001b[49m\u001b[43maccept_large_sparse\u001b[49m\u001b[38;5;241;43m=\u001b[39;49m\u001b[43maccept_large_sparse\u001b[49m\u001b[43m,\u001b[49m\n\u001b[0;32m   1150\u001b[0m \u001b[43m    \u001b[49m\u001b[43mdtype\u001b[49m\u001b[38;5;241;43m=\u001b[39;49m\u001b[43mdtype\u001b[49m\u001b[43m,\u001b[49m\n\u001b[0;32m   1151\u001b[0m \u001b[43m    \u001b[49m\u001b[43morder\u001b[49m\u001b[38;5;241;43m=\u001b[39;49m\u001b[43morder\u001b[49m\u001b[43m,\u001b[49m\n\u001b[0;32m   1152\u001b[0m \u001b[43m    \u001b[49m\u001b[43mcopy\u001b[49m\u001b[38;5;241;43m=\u001b[39;49m\u001b[43mcopy\u001b[49m\u001b[43m,\u001b[49m\n\u001b[0;32m   1153\u001b[0m \u001b[43m    \u001b[49m\u001b[43mforce_all_finite\u001b[49m\u001b[38;5;241;43m=\u001b[39;49m\u001b[43mforce_all_finite\u001b[49m\u001b[43m,\u001b[49m\n\u001b[0;32m   1154\u001b[0m \u001b[43m    \u001b[49m\u001b[43mensure_2d\u001b[49m\u001b[38;5;241;43m=\u001b[39;49m\u001b[43mensure_2d\u001b[49m\u001b[43m,\u001b[49m\n\u001b[0;32m   1155\u001b[0m \u001b[43m    \u001b[49m\u001b[43mallow_nd\u001b[49m\u001b[38;5;241;43m=\u001b[39;49m\u001b[43mallow_nd\u001b[49m\u001b[43m,\u001b[49m\n\u001b[0;32m   1156\u001b[0m \u001b[43m    \u001b[49m\u001b[43mensure_min_samples\u001b[49m\u001b[38;5;241;43m=\u001b[39;49m\u001b[43mensure_min_samples\u001b[49m\u001b[43m,\u001b[49m\n\u001b[0;32m   1157\u001b[0m \u001b[43m    \u001b[49m\u001b[43mensure_min_features\u001b[49m\u001b[38;5;241;43m=\u001b[39;49m\u001b[43mensure_min_features\u001b[49m\u001b[43m,\u001b[49m\n\u001b[0;32m   1158\u001b[0m \u001b[43m    \u001b[49m\u001b[43mestimator\u001b[49m\u001b[38;5;241;43m=\u001b[39;49m\u001b[43mestimator\u001b[49m\u001b[43m,\u001b[49m\n\u001b[0;32m   1159\u001b[0m \u001b[43m    \u001b[49m\u001b[43minput_name\u001b[49m\u001b[38;5;241;43m=\u001b[39;49m\u001b[38;5;124;43m\"\u001b[39;49m\u001b[38;5;124;43mX\u001b[39;49m\u001b[38;5;124;43m\"\u001b[39;49m\u001b[43m,\u001b[49m\n\u001b[0;32m   1160\u001b[0m \u001b[43m\u001b[49m\u001b[43m)\u001b[49m\n\u001b[0;32m   1162\u001b[0m y \u001b[38;5;241m=\u001b[39m _check_y(y, multi_output\u001b[38;5;241m=\u001b[39mmulti_output, y_numeric\u001b[38;5;241m=\u001b[39my_numeric, estimator\u001b[38;5;241m=\u001b[39mestimator)\n\u001b[0;32m   1164\u001b[0m check_consistent_length(X, y)\n",
      "File \u001b[1;32md:\\All pdf\\semester 8\\DATA SECURITY AND PRIVACY\\project\\Django-ml-Healthcare-Prediction-Website-main\\venv\\Lib\\site-packages\\sklearn\\utils\\validation.py:915\u001b[0m, in \u001b[0;36mcheck_array\u001b[1;34m(array, accept_sparse, accept_large_sparse, dtype, order, copy, force_all_finite, ensure_2d, allow_nd, ensure_min_samples, ensure_min_features, estimator, input_name)\u001b[0m\n\u001b[0;32m    913\u001b[0m         array \u001b[38;5;241m=\u001b[39m xp\u001b[38;5;241m.\u001b[39mastype(array, dtype, copy\u001b[38;5;241m=\u001b[39m\u001b[38;5;28;01mFalse\u001b[39;00m)\n\u001b[0;32m    914\u001b[0m     \u001b[38;5;28;01melse\u001b[39;00m:\n\u001b[1;32m--> 915\u001b[0m         array \u001b[38;5;241m=\u001b[39m \u001b[43m_asarray_with_order\u001b[49m\u001b[43m(\u001b[49m\u001b[43marray\u001b[49m\u001b[43m,\u001b[49m\u001b[43m \u001b[49m\u001b[43morder\u001b[49m\u001b[38;5;241;43m=\u001b[39;49m\u001b[43morder\u001b[49m\u001b[43m,\u001b[49m\u001b[43m \u001b[49m\u001b[43mdtype\u001b[49m\u001b[38;5;241;43m=\u001b[39;49m\u001b[43mdtype\u001b[49m\u001b[43m,\u001b[49m\u001b[43m \u001b[49m\u001b[43mxp\u001b[49m\u001b[38;5;241;43m=\u001b[39;49m\u001b[43mxp\u001b[49m\u001b[43m)\u001b[49m\n\u001b[0;32m    916\u001b[0m \u001b[38;5;28;01mexcept\u001b[39;00m ComplexWarning \u001b[38;5;28;01mas\u001b[39;00m complex_warning:\n\u001b[0;32m    917\u001b[0m     \u001b[38;5;28;01mraise\u001b[39;00m \u001b[38;5;167;01mValueError\u001b[39;00m(\n\u001b[0;32m    918\u001b[0m         \u001b[38;5;124m\"\u001b[39m\u001b[38;5;124mComplex data not supported\u001b[39m\u001b[38;5;130;01m\\n\u001b[39;00m\u001b[38;5;132;01m{}\u001b[39;00m\u001b[38;5;130;01m\\n\u001b[39;00m\u001b[38;5;124m\"\u001b[39m\u001b[38;5;241m.\u001b[39mformat(array)\n\u001b[0;32m    919\u001b[0m     ) \u001b[38;5;28;01mfrom\u001b[39;00m \u001b[38;5;21;01mcomplex_warning\u001b[39;00m\n",
      "File \u001b[1;32md:\\All pdf\\semester 8\\DATA SECURITY AND PRIVACY\\project\\Django-ml-Healthcare-Prediction-Website-main\\venv\\Lib\\site-packages\\sklearn\\utils\\_array_api.py:380\u001b[0m, in \u001b[0;36m_asarray_with_order\u001b[1;34m(array, dtype, order, copy, xp)\u001b[0m\n\u001b[0;32m    378\u001b[0m     array \u001b[38;5;241m=\u001b[39m numpy\u001b[38;5;241m.\u001b[39marray(array, order\u001b[38;5;241m=\u001b[39morder, dtype\u001b[38;5;241m=\u001b[39mdtype)\n\u001b[0;32m    379\u001b[0m \u001b[38;5;28;01melse\u001b[39;00m:\n\u001b[1;32m--> 380\u001b[0m     array \u001b[38;5;241m=\u001b[39m \u001b[43mnumpy\u001b[49m\u001b[38;5;241;43m.\u001b[39;49m\u001b[43masarray\u001b[49m\u001b[43m(\u001b[49m\u001b[43marray\u001b[49m\u001b[43m,\u001b[49m\u001b[43m \u001b[49m\u001b[43morder\u001b[49m\u001b[38;5;241;43m=\u001b[39;49m\u001b[43morder\u001b[49m\u001b[43m,\u001b[49m\u001b[43m \u001b[49m\u001b[43mdtype\u001b[49m\u001b[38;5;241;43m=\u001b[39;49m\u001b[43mdtype\u001b[49m\u001b[43m)\u001b[49m\n\u001b[0;32m    382\u001b[0m \u001b[38;5;66;03m# At this point array is a NumPy ndarray. We convert it to an array\u001b[39;00m\n\u001b[0;32m    383\u001b[0m \u001b[38;5;66;03m# container that is consistent with the input's namespace.\u001b[39;00m\n\u001b[0;32m    384\u001b[0m \u001b[38;5;28;01mreturn\u001b[39;00m xp\u001b[38;5;241m.\u001b[39masarray(array)\n",
      "\u001b[1;31mValueError\u001b[0m: could not convert string to float: b'#\\x83!\\xb0\\x0f\\xa1\\xde\\xe9\\x88\\x84]\\x91\\xc4:\\xc0\\x7f'"
     ]
    }
   ],
   "source": []
  },
  {
   "cell_type": "code",
   "execution_count": null,
   "metadata": {},
   "outputs": [],
   "source": [
    "\n",
    "# Make predictions on the test set\n",
    "predictions = model.predict(X_test.tolist())"
   ]
  },
  {
   "cell_type": "code",
   "execution_count": null,
   "metadata": {},
   "outputs": [],
   "source": [
    "# Evaluate the model\n",
    "accuracy = accuracy_score(y_test, predictions)\n",
    "print(f\"Model Accuracy: {accuracy}\")\n"
   ]
  },
  {
   "cell_type": "code",
   "execution_count": 2,
   "metadata": {},
   "outputs": [],
   "source": [
    "import pandas as pd\n",
    "import numpy as np "
   ]
  },
  {
   "cell_type": "code",
   "execution_count": 22,
   "metadata": {},
   "outputs": [
    {
     "data": {
      "text/html": [
       "<div>\n",
       "<style scoped>\n",
       "    .dataframe tbody tr th:only-of-type {\n",
       "        vertical-align: middle;\n",
       "    }\n",
       "\n",
       "    .dataframe tbody tr th {\n",
       "        vertical-align: top;\n",
       "    }\n",
       "\n",
       "    .dataframe thead th {\n",
       "        text-align: right;\n",
       "    }\n",
       "</style>\n",
       "<table border=\"1\" class=\"dataframe\">\n",
       "  <thead>\n",
       "    <tr style=\"text-align: right;\">\n",
       "      <th></th>\n",
       "      <th>Pregnancies</th>\n",
       "      <th>Glucose</th>\n",
       "      <th>BloodPressure</th>\n",
       "      <th>SkinThickness</th>\n",
       "      <th>Insulin</th>\n",
       "      <th>BMI</th>\n",
       "      <th>DiabetesPedigreeFunction</th>\n",
       "      <th>Age</th>\n",
       "    </tr>\n",
       "  </thead>\n",
       "  <tbody>\n",
       "    <tr>\n",
       "      <th>0</th>\n",
       "      <td>b'd\\xc4\\xab^\\xab\\xaf\\xca\\xd8\\x90\\xc9BF\\xed\\x0c...</td>\n",
       "      <td>b'\\xba]%O\\x967x\\xdeE\\xed!_6\\xda=\\x06'</td>\n",
       "      <td>b'\\x90ZK\\xb6\\x81\\xa6\\x8fs\\xdd\\x05\\xa9\\xcc\\x0fe...</td>\n",
       "      <td>b'\\xd3\\xf7\\x19oE*|\\x98\\xcfw\\xe9gB,\\x1b]'</td>\n",
       "      <td>b'8\\xea\\x02\\xf5\\xf6\\x8aT\\xc2t\\xc6\\xbb\\xd8\\x8a\\...</td>\n",
       "      <td>b'B\\xb9\\x12-A&amp;G\\t\\x1a\\xbc\\xad6\\xda/\\x8aC'</td>\n",
       "      <td>b'\\xac\\xe3\\xec\\xb46y\\xae\\n\\xcf\\x82Yg\\xb8\\x00f\\...</td>\n",
       "      <td>b']\\xb0\\x83\\xc7m\\xd8\\xf4r\\x1a\\xa0\\xb2u]}G\\xf8'</td>\n",
       "    </tr>\n",
       "    <tr>\n",
       "      <th>1</th>\n",
       "      <td>b'^\\xfe\\x8d\\xc5\\x82\\xbb\\xda\\x07uX&amp;\\x85\\xf3\\xf5...</td>\n",
       "      <td>b'\\xff\\xff\\x9cE\\xcf~J\\xf1\\xa9\\xf9\\x03\\xb0%\\xb3...</td>\n",
       "      <td>b'\\x13\\xfc|\\x17\\xeaaha\\xbd\\x13\\x9a\\xec\\xcd\\x81...</td>\n",
       "      <td>b\"\\xb1\\x14K\\x98'\\xb8\\xd8V\\x8f\\x86t:Z=8p\"</td>\n",
       "      <td>b\"\\xb1\\x14K\\x98'\\xb8\\xd8V\\x8f\\x86t:Z=8p\"</td>\n",
       "      <td>b'A*c%\\x18);\\xf0\\x89\\x95\\xc8\\xbc\\xc6(\\xc7z'</td>\n",
       "      <td>b'\\x810R\\xbd\\xebn\\x81\\xc0\\xd5\\xca\\xfa\\x88\\xd1\\...</td>\n",
       "      <td>b'6\\xa7\\x1dG\\xfe%}\\x18\\x99\\x9aS\\xc2\\xe2\\xbf\\r\\...</td>\n",
       "    </tr>\n",
       "    <tr>\n",
       "      <th>2</th>\n",
       "      <td>b'd\\xc4\\xab^\\xab\\xaf\\xca\\xd8\\x90\\xc9BF\\xed\\x0c...</td>\n",
       "      <td>b'\\xbe\\xea\\xb1c\\xbf\\xe3gW\\xa6s\\xf3$m\\xe7\\xc1\\xc1'</td>\n",
       "      <td>b'\\x13\\xfc|\\x17\\xeaaha\\xbd\\x13\\x9a\\xec\\xcd\\x81...</td>\n",
       "      <td>b\"\\xb1\\x14K\\x98'\\xb8\\xd8V\\x8f\\x86t:Z=8p\"</td>\n",
       "      <td>b\"\\xb1\\x14K\\x98'\\xb8\\xd8V\\x8f\\x86t:Z=8p\"</td>\n",
       "      <td>b'i\\xd6\\x0c\\xe5Y\\xc3\\x04\\xcdW\\xd3f\\xefNSI\\x9a'</td>\n",
       "      <td>b'\\xaf\\x19M\\x041\\x7f\\x8b\\\\u\\xc4 \\xbci\\xb40\\x8f'</td>\n",
       "      <td>b'\\xd6@\\x15\\x9aj_\\x96\\x1f\\x02j\\xdb/|0\\x9f\\xbf'</td>\n",
       "    </tr>\n",
       "    <tr>\n",
       "      <th>3</th>\n",
       "      <td>b'\\x84b\\xa8\\x13 \\xe2\\xc1y\\xc6\\xf7Q\\x06/j\\xc4C'</td>\n",
       "      <td>b'\\x02\\x8e\\x80\\xa9\\x9a\\xa7\\x0b\\x17\\x7f\\xda\\xcc...</td>\n",
       "      <td>b'\\xe1D$\\x84\\x15?\\x1b\\xa4\\xdc_5\\xbc\\xdc\\xf39\\x9d'</td>\n",
       "      <td>b'\\\\\\xa2\\xf1\\xffX\\xcf\\x0f\\xbb[\\x9d\\nc\\x9f\\x9e\\...</td>\n",
       "      <td>b'\\x8b\\xeb\\xc1\\xad\\x9f\\x01\\xb4~3\\xf5\\r\\xef\\xad...</td>\n",
       "      <td>b\"\\xe7x\\xab\\x14\\x86\\xc3\\xa1c\\xf0\\x8e6l'\\xb8I\\x90\"</td>\n",
       "      <td>b'&amp;\\xb3*\\xf2\\xc5Imu\\x14\\xc3\\x84R\\xbe\\x90\\x83\\xd4'</td>\n",
       "      <td>b'\\xfd\\x9f(\\xc2\\xbb\\x98Q\\x9f=\\xda\\x9a\\x99\\xa2c...</td>\n",
       "    </tr>\n",
       "    <tr>\n",
       "      <th>4</th>\n",
       "      <td>b'r\\x1a0&lt;\\xb9\\xb9\\xebpm\\xa4j\\xfb\\xcf\"V\\xfd'</td>\n",
       "      <td>b'\\xb3\\xf1\\xf2$~\\xf9\\xd7\\xd8\\x88\\xcb0YpBNP'</td>\n",
       "      <td>b'\\x8d\\xb2\\xd1*R-\\x98\\xed\\xe3y\\xaa\\xaex\\x95D\\x83'</td>\n",
       "      <td>b'\\\\\\xa2\\xf1\\xffX\\xcf\\x0f\\xbb[\\x9d\\nc\\x9f\\x9e\\...</td>\n",
       "      <td>b'8\\xa8)\\xa0\\xe1I\\x13}\\x88\\xff\\xdb~\\x16p\\x19\\x9a'</td>\n",
       "      <td>b'\\xd0c\\x98\\xf86\\xae\\x9fz`\\nN\\x96\\x88%\\x16|'</td>\n",
       "      <td>b'\\xcd\\xdf2fS\\xb2t]I\\xe9\\xd7\\xea\\xa0Y\\x92O'</td>\n",
       "      <td>b'\\xad\\x18\\xebp.\\xcf\\xebe\\xe1\\x9f\\xdc\\x82\\x15\\...</td>\n",
       "    </tr>\n",
       "    <tr>\n",
       "      <th>...</th>\n",
       "      <td>...</td>\n",
       "      <td>...</td>\n",
       "      <td>...</td>\n",
       "      <td>...</td>\n",
       "      <td>...</td>\n",
       "      <td>...</td>\n",
       "      <td>...</td>\n",
       "      <td>...</td>\n",
       "    </tr>\n",
       "    <tr>\n",
       "      <th>571</th>\n",
       "      <td>b'\\x84b\\xa8\\x13 \\xe2\\xc1y\\xc6\\xf7Q\\x06/j\\xc4C'</td>\n",
       "      <td>b'UH1\\xa7\\xcf\\x9fc\\x8f\\xdb*\\xbe\\xaa\\x1a)\\x1f\\xe3'</td>\n",
       "      <td>b'\\xc0.qYE\\x9dv\\x12\\xe0\\x08\\xfe\\x01\\xc1g\\x86\\x89'</td>\n",
       "      <td>b\"\\xb1\\x14K\\x98'\\xb8\\xd8V\\x8f\\x86t:Z=8p\"</td>\n",
       "      <td>b\"\\xb1\\x14K\\x98'\\xb8\\xd8V\\x8f\\x86t:Z=8p\"</td>\n",
       "      <td>b'&gt;\\x9c\\x0b6.*\\x9a\\xcf\\x98\\xc4.P\\xc7\\xcd\\xab\\x89'</td>\n",
       "      <td>b'\\x94c(\\xdd\\xce\\xad\\xcb\\x07\\x08L{}\\xae\\x1d\\xd...</td>\n",
       "      <td>b'\\xad\\x18\\xebp.\\xcf\\xebe\\xe1\\x9f\\xdc\\x82\\x15\\...</td>\n",
       "    </tr>\n",
       "    <tr>\n",
       "      <th>572</th>\n",
       "      <td>b'd\\xc4\\xab^\\xab\\xaf\\xca\\xd8\\x90\\xc9BF\\xed\\x0c...</td>\n",
       "      <td>b':S\\xd9\\xd2\\xc0\\x9fR!\\x900d.\\x96q\\x02\\x08'</td>\n",
       "      <td>b'\\xbawI\\xf5\\x93^\\xd5\\':\"i+\\x11\\xef\\x9a\\x1e'</td>\n",
       "      <td>b'\\xf4\\xb6\\x07\\xc4!(X*\\xa1\\x1a\\xfee\\x08{\\xed]'</td>\n",
       "      <td>b'\\x89\\xd7\\xdd\\x0c\\xe5\\xb8\\xd9rH#\\xce\\xda\\xeaB...</td>\n",
       "      <td>b'\\x8fz\\x0f\\x16\\xe3\\xb2h\\x0e\\xf3`e&gt;\\xec\\x96\\xdcW'</td>\n",
       "      <td>b'P\\x89}f\\x90=\\xa9}\\xbel\\xc1\\x0b\\x10\\x10\\xe2\\x1f'</td>\n",
       "      <td>b'(\\xea\\xc5\\xea\\xd7\\x9e\\x02\\xec\\xc9\\x16\\xcb\\xb...</td>\n",
       "    </tr>\n",
       "    <tr>\n",
       "      <th>573</th>\n",
       "      <td>b'\\x84b\\xa8\\x13 \\xe2\\xc1y\\xc6\\xf7Q\\x06/j\\xc4C'</td>\n",
       "      <td>b'\\xf3\\xe4\\xc3\\x87c\\xc8lx}\\xb4\\xd6\\x8d\\x04k\\xe...</td>\n",
       "      <td>b'\\xc0.qYE\\x9dv\\x12\\xe0\\x08\\xfe\\x01\\xc1g\\x86\\x89'</td>\n",
       "      <td>b'7\\xfb6\\xc1\\xf8\\xf3Ye\\xa7\\xafQ\\xa3\\xc3\\x87S\\x95'</td>\n",
       "      <td>b'^\\x15S\\xd6\\xca\\x04X\\\\\\x92K\\x01\\r\\x99\\xea\\x87...</td>\n",
       "      <td>b'\\xcf\\xf6\\xd8\\xac\\xfd.\\xa4-\\x87\\xe1\\x9b\\x04\\x...</td>\n",
       "      <td>b'D\\rN\\xca\\xdaK\\xd9if3\\x8e\\x7f\\xdf\\x12\\xa3j'</td>\n",
       "      <td>b'\\xa1\\xbe\\x88\\xa8\\x92\\xfc\\x19r\\x83\\xf1\\x06[\\x...</td>\n",
       "    </tr>\n",
       "    <tr>\n",
       "      <th>574</th>\n",
       "      <td>b'r\\x1a0&lt;\\xb9\\xb9\\xebpm\\xa4j\\xfb\\xcf\"V\\xfd'</td>\n",
       "      <td>b'A1\\x0e\\xea\\xa9\\xb1J1\\x02\\x80\\xce[@\\x03[o'</td>\n",
       "      <td>b'\"#T]\\xb7\\xe7\\xa4\\x08-~.\\xd0\\xde\\x11\\x1c\\x1e'</td>\n",
       "      <td>b'5}7\\x06\\x9a2_\\xd1DZ\\xf2\\xa5\\xa0\\xc0q\\xc1'</td>\n",
       "      <td>b'\"\\x1cU\\xe9\\xee\\x11\\'Q\\xb6\\xbd\\xc1^\\xa4O!M'</td>\n",
       "      <td>b'~:En\\x8c\\x91\\x1a\\x0cJzO\\x16\\x89\\xc6/\\x93'</td>\n",
       "      <td>b'wj\\xfd\\xa2K\\x99lL\\x1e\\x16\\xf8\\x8c7\\xe9\\xc6\\xa1'</td>\n",
       "      <td>b'\\x93\\xb3^\\xebIR\\xa5D\\xe6Qy\\x12\\x89\\xc3\\xf9\\xbb'</td>\n",
       "    </tr>\n",
       "    <tr>\n",
       "      <th>575</th>\n",
       "      <td>b'\\x98Tl\\xb9e\\xc4\\xf1\\xa8\\xbdC\\x12\\x00\\xba\\xb9...</td>\n",
       "      <td>b'\\x90ZK\\xb6\\x81\\xa6\\x8fs\\xdd\\x05\\xa9\\xcc\\x0fe...</td>\n",
       "      <td>b'\\x82\\x8f /\\xd7\\xf5O\\xcb\\x98t\\xbb{c\\x08K]'</td>\n",
       "      <td>b'5}7\\x06\\x9a2_\\xd1DZ\\xf2\\xa5\\xa0\\xc0q\\xc1'</td>\n",
       "      <td>b'\\x13\\xfc|\\x17\\xeaaha\\xbd\\x13\\x9a\\xec\\xcd\\x81...</td>\n",
       "      <td>b'&amp;|\\x11\\x96K\\x93\\xe9\\x87y\\n\\x1b\\xf21\\x91vV'</td>\n",
       "      <td>b\"'f(\\x94+\\xdb\\xaa\\xc8xKW\\x1c\\xc1\\xa8wA\"</td>\n",
       "      <td>b'5}7\\x06\\x9a2_\\xd1DZ\\xf2\\xa5\\xa0\\xc0q\\xc1'</td>\n",
       "    </tr>\n",
       "  </tbody>\n",
       "</table>\n",
       "<p>576 rows × 8 columns</p>\n",
       "</div>"
      ],
      "text/plain": [
       "                                           Pregnancies  \\\n",
       "0    b'd\\xc4\\xab^\\xab\\xaf\\xca\\xd8\\x90\\xc9BF\\xed\\x0c...   \n",
       "1    b'^\\xfe\\x8d\\xc5\\x82\\xbb\\xda\\x07uX&\\x85\\xf3\\xf5...   \n",
       "2    b'd\\xc4\\xab^\\xab\\xaf\\xca\\xd8\\x90\\xc9BF\\xed\\x0c...   \n",
       "3       b'\\x84b\\xa8\\x13 \\xe2\\xc1y\\xc6\\xf7Q\\x06/j\\xc4C'   \n",
       "4          b'r\\x1a0<\\xb9\\xb9\\xebpm\\xa4j\\xfb\\xcf\"V\\xfd'   \n",
       "..                                                 ...   \n",
       "571     b'\\x84b\\xa8\\x13 \\xe2\\xc1y\\xc6\\xf7Q\\x06/j\\xc4C'   \n",
       "572  b'd\\xc4\\xab^\\xab\\xaf\\xca\\xd8\\x90\\xc9BF\\xed\\x0c...   \n",
       "573     b'\\x84b\\xa8\\x13 \\xe2\\xc1y\\xc6\\xf7Q\\x06/j\\xc4C'   \n",
       "574        b'r\\x1a0<\\xb9\\xb9\\xebpm\\xa4j\\xfb\\xcf\"V\\xfd'   \n",
       "575  b'\\x98Tl\\xb9e\\xc4\\xf1\\xa8\\xbdC\\x12\\x00\\xba\\xb9...   \n",
       "\n",
       "                                               Glucose  \\\n",
       "0                b'\\xba]%O\\x967x\\xdeE\\xed!_6\\xda=\\x06'   \n",
       "1    b'\\xff\\xff\\x9cE\\xcf~J\\xf1\\xa9\\xf9\\x03\\xb0%\\xb3...   \n",
       "2    b'\\xbe\\xea\\xb1c\\xbf\\xe3gW\\xa6s\\xf3$m\\xe7\\xc1\\xc1'   \n",
       "3    b'\\x02\\x8e\\x80\\xa9\\x9a\\xa7\\x0b\\x17\\x7f\\xda\\xcc...   \n",
       "4          b'\\xb3\\xf1\\xf2$~\\xf9\\xd7\\xd8\\x88\\xcb0YpBNP'   \n",
       "..                                                 ...   \n",
       "571  b'UH1\\xa7\\xcf\\x9fc\\x8f\\xdb*\\xbe\\xaa\\x1a)\\x1f\\xe3'   \n",
       "572        b':S\\xd9\\xd2\\xc0\\x9fR!\\x900d.\\x96q\\x02\\x08'   \n",
       "573  b'\\xf3\\xe4\\xc3\\x87c\\xc8lx}\\xb4\\xd6\\x8d\\x04k\\xe...   \n",
       "574        b'A1\\x0e\\xea\\xa9\\xb1J1\\x02\\x80\\xce[@\\x03[o'   \n",
       "575  b'\\x90ZK\\xb6\\x81\\xa6\\x8fs\\xdd\\x05\\xa9\\xcc\\x0fe...   \n",
       "\n",
       "                                         BloodPressure  \\\n",
       "0    b'\\x90ZK\\xb6\\x81\\xa6\\x8fs\\xdd\\x05\\xa9\\xcc\\x0fe...   \n",
       "1    b'\\x13\\xfc|\\x17\\xeaaha\\xbd\\x13\\x9a\\xec\\xcd\\x81...   \n",
       "2    b'\\x13\\xfc|\\x17\\xeaaha\\xbd\\x13\\x9a\\xec\\xcd\\x81...   \n",
       "3    b'\\xe1D$\\x84\\x15?\\x1b\\xa4\\xdc_5\\xbc\\xdc\\xf39\\x9d'   \n",
       "4    b'\\x8d\\xb2\\xd1*R-\\x98\\xed\\xe3y\\xaa\\xaex\\x95D\\x83'   \n",
       "..                                                 ...   \n",
       "571  b'\\xc0.qYE\\x9dv\\x12\\xe0\\x08\\xfe\\x01\\xc1g\\x86\\x89'   \n",
       "572       b'\\xbawI\\xf5\\x93^\\xd5\\':\"i+\\x11\\xef\\x9a\\x1e'   \n",
       "573  b'\\xc0.qYE\\x9dv\\x12\\xe0\\x08\\xfe\\x01\\xc1g\\x86\\x89'   \n",
       "574     b'\"#T]\\xb7\\xe7\\xa4\\x08-~.\\xd0\\xde\\x11\\x1c\\x1e'   \n",
       "575        b'\\x82\\x8f /\\xd7\\xf5O\\xcb\\x98t\\xbb{c\\x08K]'   \n",
       "\n",
       "                                         SkinThickness  \\\n",
       "0             b'\\xd3\\xf7\\x19oE*|\\x98\\xcfw\\xe9gB,\\x1b]'   \n",
       "1             b\"\\xb1\\x14K\\x98'\\xb8\\xd8V\\x8f\\x86t:Z=8p\"   \n",
       "2             b\"\\xb1\\x14K\\x98'\\xb8\\xd8V\\x8f\\x86t:Z=8p\"   \n",
       "3    b'\\\\\\xa2\\xf1\\xffX\\xcf\\x0f\\xbb[\\x9d\\nc\\x9f\\x9e\\...   \n",
       "4    b'\\\\\\xa2\\xf1\\xffX\\xcf\\x0f\\xbb[\\x9d\\nc\\x9f\\x9e\\...   \n",
       "..                                                 ...   \n",
       "571           b\"\\xb1\\x14K\\x98'\\xb8\\xd8V\\x8f\\x86t:Z=8p\"   \n",
       "572     b'\\xf4\\xb6\\x07\\xc4!(X*\\xa1\\x1a\\xfee\\x08{\\xed]'   \n",
       "573  b'7\\xfb6\\xc1\\xf8\\xf3Ye\\xa7\\xafQ\\xa3\\xc3\\x87S\\x95'   \n",
       "574        b'5}7\\x06\\x9a2_\\xd1DZ\\xf2\\xa5\\xa0\\xc0q\\xc1'   \n",
       "575        b'5}7\\x06\\x9a2_\\xd1DZ\\xf2\\xa5\\xa0\\xc0q\\xc1'   \n",
       "\n",
       "                                               Insulin  \\\n",
       "0    b'8\\xea\\x02\\xf5\\xf6\\x8aT\\xc2t\\xc6\\xbb\\xd8\\x8a\\...   \n",
       "1             b\"\\xb1\\x14K\\x98'\\xb8\\xd8V\\x8f\\x86t:Z=8p\"   \n",
       "2             b\"\\xb1\\x14K\\x98'\\xb8\\xd8V\\x8f\\x86t:Z=8p\"   \n",
       "3    b'\\x8b\\xeb\\xc1\\xad\\x9f\\x01\\xb4~3\\xf5\\r\\xef\\xad...   \n",
       "4    b'8\\xa8)\\xa0\\xe1I\\x13}\\x88\\xff\\xdb~\\x16p\\x19\\x9a'   \n",
       "..                                                 ...   \n",
       "571           b\"\\xb1\\x14K\\x98'\\xb8\\xd8V\\x8f\\x86t:Z=8p\"   \n",
       "572  b'\\x89\\xd7\\xdd\\x0c\\xe5\\xb8\\xd9rH#\\xce\\xda\\xeaB...   \n",
       "573  b'^\\x15S\\xd6\\xca\\x04X\\\\\\x92K\\x01\\r\\x99\\xea\\x87...   \n",
       "574       b'\"\\x1cU\\xe9\\xee\\x11\\'Q\\xb6\\xbd\\xc1^\\xa4O!M'   \n",
       "575  b'\\x13\\xfc|\\x17\\xeaaha\\xbd\\x13\\x9a\\xec\\xcd\\x81...   \n",
       "\n",
       "                                                   BMI  \\\n",
       "0            b'B\\xb9\\x12-A&G\\t\\x1a\\xbc\\xad6\\xda/\\x8aC'   \n",
       "1          b'A*c%\\x18);\\xf0\\x89\\x95\\xc8\\xbc\\xc6(\\xc7z'   \n",
       "2       b'i\\xd6\\x0c\\xe5Y\\xc3\\x04\\xcdW\\xd3f\\xefNSI\\x9a'   \n",
       "3    b\"\\xe7x\\xab\\x14\\x86\\xc3\\xa1c\\xf0\\x8e6l'\\xb8I\\x90\"   \n",
       "4         b'\\xd0c\\x98\\xf86\\xae\\x9fz`\\nN\\x96\\x88%\\x16|'   \n",
       "..                                                 ...   \n",
       "571  b'>\\x9c\\x0b6.*\\x9a\\xcf\\x98\\xc4.P\\xc7\\xcd\\xab\\x89'   \n",
       "572  b'\\x8fz\\x0f\\x16\\xe3\\xb2h\\x0e\\xf3`e>\\xec\\x96\\xdcW'   \n",
       "573  b'\\xcf\\xf6\\xd8\\xac\\xfd.\\xa4-\\x87\\xe1\\x9b\\x04\\x...   \n",
       "574        b'~:En\\x8c\\x91\\x1a\\x0cJzO\\x16\\x89\\xc6/\\x93'   \n",
       "575       b'&|\\x11\\x96K\\x93\\xe9\\x87y\\n\\x1b\\xf21\\x91vV'   \n",
       "\n",
       "                              DiabetesPedigreeFunction  \\\n",
       "0    b'\\xac\\xe3\\xec\\xb46y\\xae\\n\\xcf\\x82Yg\\xb8\\x00f\\...   \n",
       "1    b'\\x810R\\xbd\\xebn\\x81\\xc0\\xd5\\xca\\xfa\\x88\\xd1\\...   \n",
       "2      b'\\xaf\\x19M\\x041\\x7f\\x8b\\\\u\\xc4 \\xbci\\xb40\\x8f'   \n",
       "3    b'&\\xb3*\\xf2\\xc5Imu\\x14\\xc3\\x84R\\xbe\\x90\\x83\\xd4'   \n",
       "4          b'\\xcd\\xdf2fS\\xb2t]I\\xe9\\xd7\\xea\\xa0Y\\x92O'   \n",
       "..                                                 ...   \n",
       "571  b'\\x94c(\\xdd\\xce\\xad\\xcb\\x07\\x08L{}\\xae\\x1d\\xd...   \n",
       "572  b'P\\x89}f\\x90=\\xa9}\\xbel\\xc1\\x0b\\x10\\x10\\xe2\\x1f'   \n",
       "573       b'D\\rN\\xca\\xdaK\\xd9if3\\x8e\\x7f\\xdf\\x12\\xa3j'   \n",
       "574  b'wj\\xfd\\xa2K\\x99lL\\x1e\\x16\\xf8\\x8c7\\xe9\\xc6\\xa1'   \n",
       "575           b\"'f(\\x94+\\xdb\\xaa\\xc8xKW\\x1c\\xc1\\xa8wA\"   \n",
       "\n",
       "                                                   Age  \n",
       "0       b']\\xb0\\x83\\xc7m\\xd8\\xf4r\\x1a\\xa0\\xb2u]}G\\xf8'  \n",
       "1    b'6\\xa7\\x1dG\\xfe%}\\x18\\x99\\x9aS\\xc2\\xe2\\xbf\\r\\...  \n",
       "2       b'\\xd6@\\x15\\x9aj_\\x96\\x1f\\x02j\\xdb/|0\\x9f\\xbf'  \n",
       "3    b'\\xfd\\x9f(\\xc2\\xbb\\x98Q\\x9f=\\xda\\x9a\\x99\\xa2c...  \n",
       "4    b'\\xad\\x18\\xebp.\\xcf\\xebe\\xe1\\x9f\\xdc\\x82\\x15\\...  \n",
       "..                                                 ...  \n",
       "571  b'\\xad\\x18\\xebp.\\xcf\\xebe\\xe1\\x9f\\xdc\\x82\\x15\\...  \n",
       "572  b'(\\xea\\xc5\\xea\\xd7\\x9e\\x02\\xec\\xc9\\x16\\xcb\\xb...  \n",
       "573  b'\\xa1\\xbe\\x88\\xa8\\x92\\xfc\\x19r\\x83\\xf1\\x06[\\x...  \n",
       "574  b'\\x93\\xb3^\\xebIR\\xa5D\\xe6Qy\\x12\\x89\\xc3\\xf9\\xbb'  \n",
       "575        b'5}7\\x06\\x9a2_\\xd1DZ\\xf2\\xa5\\xa0\\xc0q\\xc1'  \n",
       "\n",
       "[576 rows x 8 columns]"
      ]
     },
     "execution_count": 22,
     "metadata": {},
     "output_type": "execute_result"
    }
   ],
   "source": [
    "dfX = pd.read_csv(r\"D:\\All pdf\\semester 8\\DATA SECURITY AND PRIVACY\\project\\Django-ml-Healthcare-Prediction-Website-main\\accounts\\model\\encrypted_dataset.csv\")\n",
    "dfX"
   ]
  },
  {
   "cell_type": "code",
   "execution_count": 23,
   "metadata": {},
   "outputs": [
    {
     "data": {
      "text/html": [
       "<div>\n",
       "<style scoped>\n",
       "    .dataframe tbody tr th:only-of-type {\n",
       "        vertical-align: middle;\n",
       "    }\n",
       "\n",
       "    .dataframe tbody tr th {\n",
       "        vertical-align: top;\n",
       "    }\n",
       "\n",
       "    .dataframe thead th {\n",
       "        text-align: right;\n",
       "    }\n",
       "</style>\n",
       "<table border=\"1\" class=\"dataframe\">\n",
       "  <thead>\n",
       "    <tr style=\"text-align: right;\">\n",
       "      <th></th>\n",
       "      <th>Outcome</th>\n",
       "    </tr>\n",
       "  </thead>\n",
       "  <tbody>\n",
       "    <tr>\n",
       "      <th>0</th>\n",
       "      <td>1</td>\n",
       "    </tr>\n",
       "    <tr>\n",
       "      <th>1</th>\n",
       "      <td>0</td>\n",
       "    </tr>\n",
       "    <tr>\n",
       "      <th>2</th>\n",
       "      <td>1</td>\n",
       "    </tr>\n",
       "    <tr>\n",
       "      <th>3</th>\n",
       "      <td>1</td>\n",
       "    </tr>\n",
       "    <tr>\n",
       "      <th>4</th>\n",
       "      <td>0</td>\n",
       "    </tr>\n",
       "    <tr>\n",
       "      <th>...</th>\n",
       "      <td>...</td>\n",
       "    </tr>\n",
       "    <tr>\n",
       "      <th>571</th>\n",
       "      <td>0</td>\n",
       "    </tr>\n",
       "    <tr>\n",
       "      <th>572</th>\n",
       "      <td>1</td>\n",
       "    </tr>\n",
       "    <tr>\n",
       "      <th>573</th>\n",
       "      <td>0</td>\n",
       "    </tr>\n",
       "    <tr>\n",
       "      <th>574</th>\n",
       "      <td>0</td>\n",
       "    </tr>\n",
       "    <tr>\n",
       "      <th>575</th>\n",
       "      <td>0</td>\n",
       "    </tr>\n",
       "  </tbody>\n",
       "</table>\n",
       "<p>576 rows × 1 columns</p>\n",
       "</div>"
      ],
      "text/plain": [
       "     Outcome\n",
       "0          1\n",
       "1          0\n",
       "2          1\n",
       "3          1\n",
       "4          0\n",
       "..       ...\n",
       "571        0\n",
       "572        1\n",
       "573        0\n",
       "574        0\n",
       "575        0\n",
       "\n",
       "[576 rows x 1 columns]"
      ]
     },
     "execution_count": 23,
     "metadata": {},
     "output_type": "execute_result"
    }
   ],
   "source": [
    "dfY = pd.read_csv(r\"D:\\All pdf\\semester 8\\DATA SECURITY AND PRIVACY\\project\\Django-ml-Healthcare-Prediction-Website-main\\data\\Diabetes_YTrain.csv\")\n",
    "dfY"
   ]
  },
  {
   "cell_type": "code",
   "execution_count": 49,
   "metadata": {},
   "outputs": [
    {
     "data": {
      "text/html": [
       "<div>\n",
       "<style scoped>\n",
       "    .dataframe tbody tr th:only-of-type {\n",
       "        vertical-align: middle;\n",
       "    }\n",
       "\n",
       "    .dataframe tbody tr th {\n",
       "        vertical-align: top;\n",
       "    }\n",
       "\n",
       "    .dataframe thead th {\n",
       "        text-align: right;\n",
       "    }\n",
       "</style>\n",
       "<table border=\"1\" class=\"dataframe\">\n",
       "  <thead>\n",
       "    <tr style=\"text-align: right;\">\n",
       "      <th></th>\n",
       "      <th>Pregnancies</th>\n",
       "      <th>Glucose</th>\n",
       "      <th>BloodPressure</th>\n",
       "      <th>SkinThickness</th>\n",
       "      <th>Insulin</th>\n",
       "      <th>BMI</th>\n",
       "      <th>DiabetesPedigreeFunction</th>\n",
       "      <th>Age</th>\n",
       "    </tr>\n",
       "  </thead>\n",
       "  <tbody>\n",
       "    <tr>\n",
       "      <th>0</th>\n",
       "      <td>14</td>\n",
       "      <td>79</td>\n",
       "      <td>23</td>\n",
       "      <td>32</td>\n",
       "      <td>25</td>\n",
       "      <td>46</td>\n",
       "      <td>238</td>\n",
       "      <td>50</td>\n",
       "    </tr>\n",
       "    <tr>\n",
       "      <th>1</th>\n",
       "      <td>11</td>\n",
       "      <td>109</td>\n",
       "      <td>18</td>\n",
       "      <td>1</td>\n",
       "      <td>3</td>\n",
       "      <td>45</td>\n",
       "      <td>173</td>\n",
       "      <td>9</td>\n",
       "    </tr>\n",
       "    <tr>\n",
       "      <th>2</th>\n",
       "      <td>14</td>\n",
       "      <td>84</td>\n",
       "      <td>18</td>\n",
       "      <td>1</td>\n",
       "      <td>3</td>\n",
       "      <td>207</td>\n",
       "      <td>242</td>\n",
       "      <td>37</td>\n",
       "    </tr>\n",
       "    <tr>\n",
       "      <th>3</th>\n",
       "      <td>3</td>\n",
       "      <td>41</td>\n",
       "      <td>34</td>\n",
       "      <td>12</td>\n",
       "      <td>76</td>\n",
       "      <td>16</td>\n",
       "      <td>35</td>\n",
       "      <td>48</td>\n",
       "    </tr>\n",
       "    <tr>\n",
       "      <th>4</th>\n",
       "      <td>15</td>\n",
       "      <td>74</td>\n",
       "      <td>22</td>\n",
       "      <td>12</td>\n",
       "      <td>24</td>\n",
       "      <td>172</td>\n",
       "      <td>296</td>\n",
       "      <td>26</td>\n",
       "    </tr>\n",
       "    <tr>\n",
       "      <th>...</th>\n",
       "      <td>...</td>\n",
       "      <td>...</td>\n",
       "      <td>...</td>\n",
       "      <td>...</td>\n",
       "      <td>...</td>\n",
       "      <td>...</td>\n",
       "      <td>...</td>\n",
       "      <td>...</td>\n",
       "    </tr>\n",
       "    <tr>\n",
       "      <th>571</th>\n",
       "      <td>3</td>\n",
       "      <td>35</td>\n",
       "      <td>28</td>\n",
       "      <td>1</td>\n",
       "      <td>3</td>\n",
       "      <td>42</td>\n",
       "      <td>197</td>\n",
       "      <td>26</td>\n",
       "    </tr>\n",
       "    <tr>\n",
       "      <th>572</th>\n",
       "      <td>14</td>\n",
       "      <td>22</td>\n",
       "      <td>27</td>\n",
       "      <td>38</td>\n",
       "      <td>75</td>\n",
       "      <td>116</td>\n",
       "      <td>97</td>\n",
       "      <td>5</td>\n",
       "    </tr>\n",
       "    <tr>\n",
       "      <th>573</th>\n",
       "      <td>3</td>\n",
       "      <td>106</td>\n",
       "      <td>28</td>\n",
       "      <td>7</td>\n",
       "      <td>144</td>\n",
       "      <td>170</td>\n",
       "      <td>78</td>\n",
       "      <td>25</td>\n",
       "    </tr>\n",
       "    <tr>\n",
       "      <th>574</th>\n",
       "      <td>15</td>\n",
       "      <td>25</td>\n",
       "      <td>6</td>\n",
       "      <td>6</td>\n",
       "      <td>10</td>\n",
       "      <td>223</td>\n",
       "      <td>417</td>\n",
       "      <td>24</td>\n",
       "    </tr>\n",
       "    <tr>\n",
       "      <th>575</th>\n",
       "      <td>4</td>\n",
       "      <td>66</td>\n",
       "      <td>19</td>\n",
       "      <td>6</td>\n",
       "      <td>66</td>\n",
       "      <td>26</td>\n",
       "      <td>0</td>\n",
       "      <td>8</td>\n",
       "    </tr>\n",
       "  </tbody>\n",
       "</table>\n",
       "<p>576 rows × 8 columns</p>\n",
       "</div>"
      ],
      "text/plain": [
       "     Pregnancies  Glucose  BloodPressure  SkinThickness  Insulin  BMI  \\\n",
       "0             14       79             23             32       25   46   \n",
       "1             11      109             18              1        3   45   \n",
       "2             14       84             18              1        3  207   \n",
       "3              3       41             34             12       76   16   \n",
       "4             15       74             22             12       24  172   \n",
       "..           ...      ...            ...            ...      ...  ...   \n",
       "571            3       35             28              1        3   42   \n",
       "572           14       22             27             38       75  116   \n",
       "573            3      106             28              7      144  170   \n",
       "574           15       25              6              6       10  223   \n",
       "575            4       66             19              6       66   26   \n",
       "\n",
       "     DiabetesPedigreeFunction  Age  \n",
       "0                         238   50  \n",
       "1                         173    9  \n",
       "2                         242   37  \n",
       "3                          35   48  \n",
       "4                         296   26  \n",
       "..                        ...  ...  \n",
       "571                       197   26  \n",
       "572                        97    5  \n",
       "573                        78   25  \n",
       "574                       417   24  \n",
       "575                         0    8  \n",
       "\n",
       "[576 rows x 8 columns]"
      ]
     },
     "execution_count": 49,
     "metadata": {},
     "output_type": "execute_result"
    }
   ],
   "source": [
    "from sklearn import preprocessing\n",
    "import pandas as pd\n",
    "\n",
    "# Assuming your DataFrame is named df\n",
    "# Replace 'target_column' with the actual column name you want to encode\n",
    "columns_to_encode = ['Pregnancies',\t'Glucose',\t'BloodPressure',\t'SkinThickness',\t'Insulin'\t,'BMI','DiabetesPedigreeFunction','Age']\n",
    "\n",
    "# Create a label encoder object\n",
    "label_encoder = preprocessing.LabelEncoder()\n",
    "\n",
    "# Encode labels in each specified column\n",
    "for column in columns_to_encode:\n",
    "    dfX[column] = label_encoder.fit_transform(dfX[column])\n",
    "\n",
    "# Display the unique values in the encoded 'target_column'\n",
    "# print(df['target_column'].unique())\n",
    "\n",
    "dfX\n"
   ]
  },
  {
   "cell_type": "code",
   "execution_count": 50,
   "metadata": {},
   "outputs": [],
   "source": [
    "X = dfX[['Pregnancies',\t'Glucose',\t'BloodPressure',\t'SkinThickness',\t'Insulin'\t,'BMI','DiabetesPedigreeFunction','Age']]\n",
    "Y = dfY['Outcome']"
   ]
  },
  {
   "cell_type": "code",
   "execution_count": 51,
   "metadata": {},
   "outputs": [],
   "source": [
    "X_train, X_test, Y_train, Y_test = train_test_split(X, Y, test_size=0.2, random_state=42)\n"
   ]
  },
  {
   "cell_type": "code",
   "execution_count": 52,
   "metadata": {},
   "outputs": [],
   "source": [
    "from sklearn.linear_model import LinearRegression\n",
    "\n",
    "# Initialize the logistic regression model\n",
    "model = LogisticRegression()\n",
    "\n"
   ]
  },
  {
   "cell_type": "code",
   "execution_count": 53,
   "metadata": {},
   "outputs": [
    {
     "data": {
      "text/html": [
       "<style>#sk-container-id-2 {color: black;}#sk-container-id-2 pre{padding: 0;}#sk-container-id-2 div.sk-toggleable {background-color: white;}#sk-container-id-2 label.sk-toggleable__label {cursor: pointer;display: block;width: 100%;margin-bottom: 0;padding: 0.3em;box-sizing: border-box;text-align: center;}#sk-container-id-2 label.sk-toggleable__label-arrow:before {content: \"▸\";float: left;margin-right: 0.25em;color: #696969;}#sk-container-id-2 label.sk-toggleable__label-arrow:hover:before {color: black;}#sk-container-id-2 div.sk-estimator:hover label.sk-toggleable__label-arrow:before {color: black;}#sk-container-id-2 div.sk-toggleable__content {max-height: 0;max-width: 0;overflow: hidden;text-align: left;background-color: #f0f8ff;}#sk-container-id-2 div.sk-toggleable__content pre {margin: 0.2em;color: black;border-radius: 0.25em;background-color: #f0f8ff;}#sk-container-id-2 input.sk-toggleable__control:checked~div.sk-toggleable__content {max-height: 200px;max-width: 100%;overflow: auto;}#sk-container-id-2 input.sk-toggleable__control:checked~label.sk-toggleable__label-arrow:before {content: \"▾\";}#sk-container-id-2 div.sk-estimator input.sk-toggleable__control:checked~label.sk-toggleable__label {background-color: #d4ebff;}#sk-container-id-2 div.sk-label input.sk-toggleable__control:checked~label.sk-toggleable__label {background-color: #d4ebff;}#sk-container-id-2 input.sk-hidden--visually {border: 0;clip: rect(1px 1px 1px 1px);clip: rect(1px, 1px, 1px, 1px);height: 1px;margin: -1px;overflow: hidden;padding: 0;position: absolute;width: 1px;}#sk-container-id-2 div.sk-estimator {font-family: monospace;background-color: #f0f8ff;border: 1px dotted black;border-radius: 0.25em;box-sizing: border-box;margin-bottom: 0.5em;}#sk-container-id-2 div.sk-estimator:hover {background-color: #d4ebff;}#sk-container-id-2 div.sk-parallel-item::after {content: \"\";width: 100%;border-bottom: 1px solid gray;flex-grow: 1;}#sk-container-id-2 div.sk-label:hover label.sk-toggleable__label {background-color: #d4ebff;}#sk-container-id-2 div.sk-serial::before {content: \"\";position: absolute;border-left: 1px solid gray;box-sizing: border-box;top: 0;bottom: 0;left: 50%;z-index: 0;}#sk-container-id-2 div.sk-serial {display: flex;flex-direction: column;align-items: center;background-color: white;padding-right: 0.2em;padding-left: 0.2em;position: relative;}#sk-container-id-2 div.sk-item {position: relative;z-index: 1;}#sk-container-id-2 div.sk-parallel {display: flex;align-items: stretch;justify-content: center;background-color: white;position: relative;}#sk-container-id-2 div.sk-item::before, #sk-container-id-2 div.sk-parallel-item::before {content: \"\";position: absolute;border-left: 1px solid gray;box-sizing: border-box;top: 0;bottom: 0;left: 50%;z-index: -1;}#sk-container-id-2 div.sk-parallel-item {display: flex;flex-direction: column;z-index: 1;position: relative;background-color: white;}#sk-container-id-2 div.sk-parallel-item:first-child::after {align-self: flex-end;width: 50%;}#sk-container-id-2 div.sk-parallel-item:last-child::after {align-self: flex-start;width: 50%;}#sk-container-id-2 div.sk-parallel-item:only-child::after {width: 0;}#sk-container-id-2 div.sk-dashed-wrapped {border: 1px dashed gray;margin: 0 0.4em 0.5em 0.4em;box-sizing: border-box;padding-bottom: 0.4em;background-color: white;}#sk-container-id-2 div.sk-label label {font-family: monospace;font-weight: bold;display: inline-block;line-height: 1.2em;}#sk-container-id-2 div.sk-label-container {text-align: center;}#sk-container-id-2 div.sk-container {/* jupyter's `normalize.less` sets `[hidden] { display: none; }` but bootstrap.min.css set `[hidden] { display: none !important; }` so we also need the `!important` here to be able to override the default hidden behavior on the sphinx rendered scikit-learn.org. See: https://github.com/scikit-learn/scikit-learn/issues/21755 */display: inline-block !important;position: relative;}#sk-container-id-2 div.sk-text-repr-fallback {display: none;}</style><div id=\"sk-container-id-2\" class=\"sk-top-container\"><div class=\"sk-text-repr-fallback\"><pre>LogisticRegression()</pre><b>In a Jupyter environment, please rerun this cell to show the HTML representation or trust the notebook. <br />On GitHub, the HTML representation is unable to render, please try loading this page with nbviewer.org.</b></div><div class=\"sk-container\" hidden><div class=\"sk-item\"><div class=\"sk-estimator sk-toggleable\"><input class=\"sk-toggleable__control sk-hidden--visually\" id=\"sk-estimator-id-2\" type=\"checkbox\" checked><label for=\"sk-estimator-id-2\" class=\"sk-toggleable__label sk-toggleable__label-arrow\">LogisticRegression</label><div class=\"sk-toggleable__content\"><pre>LogisticRegression()</pre></div></div></div></div></div>"
      ],
      "text/plain": [
       "LogisticRegression()"
      ]
     },
     "execution_count": 53,
     "metadata": {},
     "output_type": "execute_result"
    }
   ],
   "source": [
    "\n",
    "# Train the model\n",
    "model.fit(X_train.values, Y_train)\n"
   ]
  },
  {
   "cell_type": "code",
   "execution_count": 54,
   "metadata": {},
   "outputs": [
    {
     "name": "stderr",
     "output_type": "stream",
     "text": [
      "d:\\All pdf\\semester 8\\DATA SECURITY AND PRIVACY\\project\\Django-ml-Healthcare-Prediction-Website-main\\venv\\Lib\\site-packages\\sklearn\\base.py:458: UserWarning: X has feature names, but LogisticRegression was fitted without feature names\n",
      "  warnings.warn(\n"
     ]
    }
   ],
   "source": [
    "\n",
    "# Make predictions on the test set\n",
    "predictions = model.predict(X_test)"
   ]
  },
  {
   "cell_type": "code",
   "execution_count": 55,
   "metadata": {},
   "outputs": [
    {
     "name": "stdout",
     "output_type": "stream",
     "text": [
      "Model Accuracy: 0.6551724137931034\n"
     ]
    }
   ],
   "source": [
    "# Evaluate the model\n",
    "accuracy = accuracy_score(Y_test, predictions)\n",
    "print(f\"Model Accuracy: {accuracy}\")\n"
   ]
  },
  {
   "cell_type": "code",
   "execution_count": 63,
   "metadata": {},
   "outputs": [],
   "source": [
    "import numpy as np\n",
    "\n",
    "X1 = np.array([10,115,0,0,0,0,0.261,30]).reshape(1, -1)\n"
   ]
  },
  {
   "cell_type": "code",
   "execution_count": 57,
   "metadata": {},
   "outputs": [
    {
     "name": "stdout",
     "output_type": "stream",
     "text": [
      "[[  8.    110.     76.      0.      0.     27.8     0.237  58.   ]]\n"
     ]
    }
   ],
   "source": [
    "print(X1)"
   ]
  },
  {
   "cell_type": "code",
   "execution_count": 64,
   "metadata": {},
   "outputs": [
    {
     "name": "stdout",
     "output_type": "stream",
     "text": [
      "[0]\n"
     ]
    }
   ],
   "source": [
    "predictions = model.predict(X1)\n",
    "print(predictions)"
   ]
  },
  {
   "cell_type": "code",
   "execution_count": null,
   "metadata": {},
   "outputs": [],
   "source": [
    "[17.99,10.38,122.8,1001]"
   ]
  },
  {
   "cell_type": "code",
   "execution_count": 34,
   "metadata": {},
   "outputs": [
    {
     "name": "stdout",
     "output_type": "stream",
     "text": [
      "[b'\\x08\\x99\\xd6[\\x9b\\xe1r\\xdc\\xafh^Z~\\xe9\\xc4l', b'\\xef\\x88\\xd4\\x7f`\\x14\\xb1%\\xb6\\xeb\\xce\\x89\\xf1\\xdeU\\x06', b'y\\xfd\\x8c\\x97x\\x00q\\xc3Sn\\x81l\\xb6\\xff\\xc1\\x9f', b'\\xa0 \\xa7u \\x8b\\xa2,\\x1e\\x82)\\xbfp\\xb3\\x18w']\n"
     ]
    },
    {
     "name": "stderr",
     "output_type": "stream",
     "text": [
      "C:\\Users\\Gokul01\\AppData\\Local\\Temp\\ipykernel_18928\\4005031510.py:20: FutureWarning: DataFrame.applymap has been deprecated. Use DataFrame.map instead.\n",
      "  return df.applymap(lambda cell: encrypt_data(key, str(cell).encode('utf-8')))\n"
     ]
    }
   ],
   "source": [
    "from cryptography.hazmat.primitives.ciphers import Cipher, algorithms, modes\n",
    "from cryptography.hazmat.backends import default_backend\n",
    "from cryptography.hazmat.primitives import padding\n",
    "import pandas as pd\n",
    "\n",
    "# Function to pad data before encryption\n",
    "def pad_data(data):\n",
    "    padder = padding.PKCS7(128).padder()\n",
    "    padded_data = padder.update(data) + padder.finalize()\n",
    "    return padded_data\n",
    "\n",
    "# Function to encrypt data using AES\n",
    "def encrypt_data(key, data):\n",
    "    cipher = Cipher(algorithms.AES(key), modes.ECB(), backend=default_backend())\n",
    "    encryptor = cipher.encryptor()\n",
    "    return encryptor.update(pad_data(data)) + encryptor.finalize()\n",
    "\n",
    "# Function to encrypt each cell in a DataFrame\n",
    "def encrypt_dataframe(df, key):\n",
    "    return df.applymap(lambda cell: encrypt_data(key, str(cell).encode('utf-8')))\n",
    "\n",
    "# List to encrypt\n",
    "data_to_encrypt = [17.99, 10.38, 122.8, 1001]\n",
    "\n",
    "# Convert the list to a DataFrame\n",
    "df = pd.DataFrame(data_to_encrypt, columns=['Values'])\n",
    "\n",
    "# Encryption key \n",
    "key = b'Sixteen byte key'\n",
    "\n",
    "# Encrypt the DataFrame\n",
    "encrypted_df = encrypt_dataframe(df, key)\n",
    "\n",
    "# Display the encrypted DataFrame\n",
    "# print(encrypted_df)\n",
    "\n",
    "\n",
    "# Convert the encrypted DataFrame back to a list\n",
    "encrypted_list = encrypted_df.values.flatten().tolist()\n",
    "\n",
    "# Display the encrypted list\n",
    "print(encrypted_list)\n"
   ]
  },
  {
   "cell_type": "code",
   "execution_count": 32,
   "metadata": {},
   "outputs": [],
   "source": [
    "encrypted_df.to_csv('encr.csv', index=False)\n"
   ]
  },
  {
   "cell_type": "code",
   "execution_count": null,
   "metadata": {},
   "outputs": [],
   "source": [
    "[b'\\x08\\x99\\xd6[\\x9b\\xe1r\\xdc\\xafh^Z~\\xe9\\xc4l', b'\\xef\\x88\\xd4\\x7f`\\x14\\xb1%\\xb6\\xeb\\xce\\x89\\xf1\\xdeU\\x06', b'y\\xfd\\x8c\\x97x\\x00q\\xc3Sn\\x81l\\xb6\\xff\\xc1\\x9f', b'\\xa0 \\xa7u \\x8b\\xa2,\\x1e\\x82)\\xbfp\\xb3\\x18w']\n"
   ]
  },
  {
   "cell_type": "code",
   "execution_count": 36,
   "metadata": {},
   "outputs": [
    {
     "name": "stdout",
     "output_type": "stream",
     "text": [
      "[0 3 1 2]\n"
     ]
    }
   ],
   "source": [
    "from sklearn import preprocessing\n",
    "import pandas as pd\n",
    "\n",
    "# Sample list of byte strings\n",
    "byte_strings = [\n",
    "    b'\\x08\\x99\\xd6[\\x9b\\xe1r\\xdc\\xafh^Z~\\xe9\\xc4l',\n",
    "    b'\\xef\\x88\\xd4\\x7f`\\x14\\xb1%\\xb6\\xeb\\xce\\x89\\xf1\\xdeU\\x06',\n",
    "    b'y\\xfd\\x8c\\x97x\\x00q\\xc3Sn\\x81l\\xb6\\xff\\xc1\\x9f',\n",
    "    b'\\xa0 \\xa7u \\x8b\\xa2,\\x1e\\x82)\\xbfp\\xb3\\x18w'\n",
    "]\n",
    "\n",
    "# Convert byte strings to string representation using 'latin-1' encoding\n",
    "string_representation = [bs.decode('latin-1') for bs in byte_strings]\n",
    "\n",
    "# Create a label encoder object\n",
    "label_encoder = preprocessing.LabelEncoder()\n",
    "\n",
    "# Encode labels\n",
    "encoded_labels = label_encoder.fit_transform(string_representation)\n",
    "\n",
    "# Display the unique encoded labels\n",
    "print(encoded_labels)\n"
   ]
  },
  {
   "cell_type": "code",
   "execution_count": null,
   "metadata": {},
   "outputs": [],
   "source": []
  },
  {
   "cell_type": "code",
   "execution_count": null,
   "metadata": {},
   "outputs": [
    {
     "name": "stdout",
     "output_type": "stream",
     "text": [
      "Mean Squared Error: 0.21551724137931033\n",
      "R-squared: 0.046052631578947234\n"
     ]
    }
   ],
   "source": [
    "from sklearn.metrics import mean_squared_error, r2_score\n",
    "model.fit(X_train, Y_train)\n",
    "\n",
    "# Make predictions on the test set\n",
    "predictions = model.predict(X_test)\n",
    "\n",
    "# Evaluate the model\n",
    "mse = mean_squared_error(Y_test, predictions)\n",
    "r2 = r2_score(Y_test, predictions)\n",
    "\n",
    "print(f\"Mean Squared Error: {mse}\")\n",
    "print(f\"R-squared: {r2}\")"
   ]
  }
 ],
 "metadata": {
  "kernelspec": {
   "display_name": "venv",
   "language": "python",
   "name": "python3"
  },
  "language_info": {
   "codemirror_mode": {
    "name": "ipython",
    "version": 3
   },
   "file_extension": ".py",
   "mimetype": "text/x-python",
   "name": "python",
   "nbconvert_exporter": "python",
   "pygments_lexer": "ipython3",
   "version": "3.11.5"
  }
 },
 "nbformat": 4,
 "nbformat_minor": 2
}
