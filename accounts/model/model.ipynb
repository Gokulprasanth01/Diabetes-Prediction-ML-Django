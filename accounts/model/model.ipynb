{
 "cells": [
  {
   "cell_type": "code",
   "execution_count": 51,
   "metadata": {},
   "outputs": [
    {
     "name": "stdout",
     "output_type": "stream",
     "text": [
      "Encrypted DataFrame:\n",
      "                             Pregnancies  \\\n",
      "0    a6:afc7eddbf9516523afc65dd203ea5b59   \n",
      "1    a9:7b793cb359093daba27e596a080fad75   \n",
      "2    a6:afc7eddbf9516523afc65dd203ea5b59   \n",
      "3    a3:4524e82250ab568079d85c55cab5e9af   \n",
      "4    a5:8634307d6f256b24b2f21428a3034831   \n",
      "..                                   ...   \n",
      "571  a3:4524e82250ab568079d85c55cab5e9af   \n",
      "572  a6:afc7eddbf9516523afc65dd203ea5b59   \n",
      "573  a3:4524e82250ab568079d85c55cab5e9af   \n",
      "574  a5:8634307d6f256b24b2f21428a3034831   \n",
      "575  a0:61c10c92b7465aaffb6c300d76844bb7   \n",
      "\n",
      "                                     Glucose  \\\n",
      "0    a05996:7dc31558062f947f98ae891e31d0830e   \n",
      "1    a05e9e:069205b6cfe6362ca73ecc50646ddc30   \n",
      "2    a05b99:516ac0fe4fba2fb24f53d219d2fe829b   \n",
      "3    a05f9e:dbd2d465ba18e54cc593564a529228ae   \n",
      "4    a05d97:7427b36d95bfb7d9eac8fd81ac58762c   \n",
      "..                                       ...   \n",
      "571  a05e9f:cfd5d28a1a56c314099f342772138193   \n",
      "572  a05799:893a53fb791663f5a67cf907c6587675   \n",
      "573  a05d9c:18c4234a28600d71ba0b13524a8108d2   \n",
      "574  a05a9a:a6994bcc07ce326f4834bc7db9679829   \n",
      "575    a957:7a85ad6674169bc491cf5106c10c9729   \n",
      "\n",
      "                             BloodPressure  \\\n",
      "0    a957:7a85ad6674169bc491cf5106c10c9729   \n",
      "1    a659:3af38b8abace22671bb64671f1d86c64   \n",
      "2    a659:3af38b8abace22671bb64671f1d86c64   \n",
      "3    a759:3134404c7c64e9d6532accdfb5eaa899   \n",
      "4    a959:8d404b7902807d867bb15653f7a25e65   \n",
      "..                                     ...   \n",
      "571  a75f:5db0e6a8ce1e44a3f1b8820408528216   \n",
      "572  a757:0a2e85ef30f2f6960302a9e6dec1fb48   \n",
      "573  a75f:5db0e6a8ce1e44a3f1b8820408528216   \n",
      "574  a65d:8cac98bbdce6828a718044a8f3a9a4f4   \n",
      "575  a657:bede4df151556e2738cf609e985ec61f   \n",
      "\n",
      "                             SkinThickness  \\\n",
      "0    a55d:34d348e291b2379a25bcc678e9a6f88f   \n",
      "1      a1:8d5b985854067ca58ffb8d76f0ca92a0   \n",
      "2      a1:8d5b985854067ca58ffb8d76f0ca92a0   \n",
      "3    a35f:a57e72b4de2a2a1d1fe59b6744940c60   \n",
      "4    a35f:a57e72b4de2a2a1d1fe59b6744940c60   \n",
      "..                                     ...   \n",
      "571    a1:8d5b985854067ca58ffb8d76f0ca92a0   \n",
      "572  a256:0c14307efad91f8ebb3602190566733b   \n",
      "573  a057:71ca7ac4ab8ba97d446c13201b0a2f4a   \n",
      "574  a356:9dfa41ac2059e7ea2ebbd31a16a96297   \n",
      "575  a356:9dfa41ac2059e7ea2ebbd31a16a96297   \n",
      "\n",
      "                                     Insulin  \\\n",
      "0    a25d9f:b647adee0e341db47fc68da8aeea22d4   \n",
      "1        a1:8d5b985854067ca58ffb8d76f0ca92a0   \n",
      "2        a1:8d5b985854067ca58ffb8d76f0ca92a0   \n",
      "3      a85f:f429b0ee7ee64bc924ce2747a79b637a   \n",
      "4    a3589e:984f4543e1ad762708dedede2a1ffdd9   \n",
      "..                                       ...   \n",
      "571      a1:8d5b985854067ca58ffb8d76f0ca92a0   \n",
      "572  a25f9a:e1c5ee4e91b29973535aa950ffb6cf16   \n",
      "573  a05f98:4c7c5e8b4fdb63b48eeae5354c41c168   \n",
      "574  a05d98:c6d676466a0701254356d92e45084073   \n",
      "575    a659:3af38b8abace22671bb64671f1d86c64   \n",
      "\n",
      "                                           BMI  \\\n",
      "0    a25780d1:9dc424d7d29251cefc5864ef9aefed7e   \n",
      "1    a35880db:ad43404eb2867b86364d95763a1ac8b6   \n",
      "2    a25680d7:7ded13668875e8b0ae4299f842f6a32a   \n",
      "3    a25d80da:251f82ced3daf22e9106999c85a13385   \n",
      "4    a25a80d2:766ec2040985a0ec513d7176a1be541d   \n",
      "..                                         ...   \n",
      "571  a35980d1:6cda7c7db326950513e0e40ee59f6035   \n",
      "572  a25880d4:9823ccfbe54faaaad113e4025729c27d   \n",
      "573  a35680db:cb9098363303ced094421b1ee342e0f5   \n",
      "574  a25e80d0:a56a119103f58eecf69640b8a29a97a0   \n",
      "575  a25d80d3:17b132ffdd1c565002ee94252ff1c643   \n",
      "\n",
      "                        DiabetesPedigreeFunction  \\\n",
      "0    a14199db31:1cf313037a0ac20a48178e786dc4507f   \n",
      "1    a1419cd031:2624343d27a6e40c88fe3c05a8691975   \n",
      "2    a1419cd631:784ba09319af8dd47a0c13c7b4ac2df5   \n",
      "3    a14196d531:daf53e205cbd7cea161e9137be5087e1   \n",
      "4    a1419cd037:abc0a5d2cc564c0d802f7b6022827f50   \n",
      "..                                           ...   \n",
      "571  a1419dd735:e1d75a8dceea6df393cd9bf00022a360   \n",
      "572  a1419cd632:f114fea2736341bd3c274a6b62ec4e18   \n",
      "573  a14199d231:c3e29e5e11125889f5e262436acdac6d   \n",
      "574  a1419dd03e:5d76c2a8cc7e61f12e86349f56244a39   \n",
      "575  a1419dd533:89803bf65abde2d2f47fa60e4fc104a6   \n",
      "\n",
      "                                       Age  \n",
      "0    a55f:a23f846b76b763a9f5dccb3ed622d4d0  \n",
      "1    a457:8a499087e64bc643feee892e80a28c8b  \n",
      "2    a55c:aac3cf0946badaaf25f88e49a8409a82  \n",
      "3    a357:45c809d8361ddbe49045be3e7c79e4ab  \n",
      "4    a35c:d69a5153404140dd5ec1597f6129a920  \n",
      "..                                     ...  \n",
      "571  a35c:d69a5153404140dd5ec1597f6129a920  \n",
      "572  a55e:4e62d0933fdffcbe1ec2efca3ad336c5  \n",
      "573  a35d:007045d7afa19983ae33a4e81532a50b  \n",
      "574  a258:13c6f695047ec5c6cdb745ed7511ebf7  \n",
      "575  a356:9dfa41ac2059e7ea2ebbd31a16a96297  \n",
      "\n",
      "[576 rows x 8 columns]\n"
     ]
    }
   ],
   "source": [
    "from Cryptodome.Cipher import AES\n",
    "import pandas as pd\n",
    "\n",
    "# Generate a random key\n",
    "key = b'Q\\xddcq%\\x12\\x82>\\xd0\\xdd\\xe5\\xc5\\xb8\\t\\xbe\\x11'\n",
    "# Use a fixed IV for encryption and decryption\n",
    "fixed_iv = bytes([0] * 16)\n",
    "\n",
    "def encrypt(msg):\n",
    "    cipher = AES.new(key, AES.MODE_EAX, nonce=fixed_iv)\n",
    "    ciphertext, tag = cipher.encrypt_and_digest(str(msg).encode('utf-8'))\n",
    "    return f\"{ciphertext.hex()}:{tag.hex()}\"\n",
    "\n",
    "# Example DataFrame\n",
    "\n",
    "df = pd.read_csv(r'D:\\All pdf\\semester 8\\DATA SECURITY AND PRIVACY\\project\\Django-ml-Healthcare-Prediction-Website-main\\data\\Diabetes_XTrain.csv')\n",
    "\n",
    "# Encrypt the DataFrame\n",
    "encrypted_data = {}\n",
    "\n",
    "for column in df.columns:\n",
    "    encrypted_data[column] = df[column].apply(encrypt)\n",
    "\n",
    "# Create a new DataFrame with encrypted values\n",
    "encrypted_df = pd.DataFrame(encrypted_data)\n",
    "\n",
    "# Print the encrypted DataFrame\n",
    "print(\"Encrypted DataFrame:\")\n",
    "print(encrypted_df)\n",
    "encrypted_df.to_csv('print')"
   ]
  },
  {
   "cell_type": "code",
   "execution_count": 33,
   "metadata": {},
   "outputs": [
    {
     "data": {
      "text/html": [
       "<div>\n",
       "<style scoped>\n",
       "    .dataframe tbody tr th:only-of-type {\n",
       "        vertical-align: middle;\n",
       "    }\n",
       "\n",
       "    .dataframe tbody tr th {\n",
       "        vertical-align: top;\n",
       "    }\n",
       "\n",
       "    .dataframe thead th {\n",
       "        text-align: right;\n",
       "    }\n",
       "</style>\n",
       "<table border=\"1\" class=\"dataframe\">\n",
       "  <thead>\n",
       "    <tr style=\"text-align: right;\">\n",
       "      <th></th>\n",
       "      <th>Pregnancies</th>\n",
       "      <th>Glucose</th>\n",
       "      <th>BloodPressure</th>\n",
       "      <th>SkinThickness</th>\n",
       "      <th>Insulin</th>\n",
       "      <th>BMI</th>\n",
       "      <th>DiabetesPedigreeFunction</th>\n",
       "      <th>Age</th>\n",
       "    </tr>\n",
       "  </thead>\n",
       "  <tbody>\n",
       "    <tr>\n",
       "      <th>0</th>\n",
       "      <td>12</td>\n",
       "      <td>27</td>\n",
       "      <td>40</td>\n",
       "      <td>42</td>\n",
       "      <td>63</td>\n",
       "      <td>19</td>\n",
       "      <td>139</td>\n",
       "      <td>38</td>\n",
       "    </tr>\n",
       "    <tr>\n",
       "      <th>1</th>\n",
       "      <td>15</td>\n",
       "      <td>82</td>\n",
       "      <td>23</td>\n",
       "      <td>10</td>\n",
       "      <td>50</td>\n",
       "      <td>122</td>\n",
       "      <td>236</td>\n",
       "      <td>20</td>\n",
       "    </tr>\n",
       "    <tr>\n",
       "      <th>2</th>\n",
       "      <td>12</td>\n",
       "      <td>47</td>\n",
       "      <td>23</td>\n",
       "      <td>10</td>\n",
       "      <td>50</td>\n",
       "      <td>15</td>\n",
       "      <td>277</td>\n",
       "      <td>35</td>\n",
       "    </tr>\n",
       "    <tr>\n",
       "      <th>3</th>\n",
       "      <td>9</td>\n",
       "      <td>92</td>\n",
       "      <td>29</td>\n",
       "      <td>30</td>\n",
       "      <td>151</td>\n",
       "      <td>80</td>\n",
       "      <td>51</td>\n",
       "      <td>11</td>\n",
       "    </tr>\n",
       "    <tr>\n",
       "      <th>4</th>\n",
       "      <td>11</td>\n",
       "      <td>65</td>\n",
       "      <td>41</td>\n",
       "      <td>30</td>\n",
       "      <td>75</td>\n",
       "      <td>48</td>\n",
       "      <td>241</td>\n",
       "      <td>16</td>\n",
       "    </tr>\n",
       "    <tr>\n",
       "      <th>...</th>\n",
       "      <td>...</td>\n",
       "      <td>...</td>\n",
       "      <td>...</td>\n",
       "      <td>...</td>\n",
       "      <td>...</td>\n",
       "      <td>...</td>\n",
       "      <td>...</td>\n",
       "      <td>...</td>\n",
       "    </tr>\n",
       "    <tr>\n",
       "      <th>571</th>\n",
       "      <td>9</td>\n",
       "      <td>83</td>\n",
       "      <td>33</td>\n",
       "      <td>10</td>\n",
       "      <td>50</td>\n",
       "      <td>123</td>\n",
       "      <td>348</td>\n",
       "      <td>16</td>\n",
       "    </tr>\n",
       "    <tr>\n",
       "      <th>572</th>\n",
       "      <td>12</td>\n",
       "      <td>11</td>\n",
       "      <td>28</td>\n",
       "      <td>11</td>\n",
       "      <td>65</td>\n",
       "      <td>31</td>\n",
       "      <td>278</td>\n",
       "      <td>37</td>\n",
       "    </tr>\n",
       "    <tr>\n",
       "      <th>573</th>\n",
       "      <td>9</td>\n",
       "      <td>70</td>\n",
       "      <td>33</td>\n",
       "      <td>1</td>\n",
       "      <td>47</td>\n",
       "      <td>103</td>\n",
       "      <td>123</td>\n",
       "      <td>17</td>\n",
       "    </tr>\n",
       "    <tr>\n",
       "      <th>574</th>\n",
       "      <td>11</td>\n",
       "      <td>40</td>\n",
       "      <td>26</td>\n",
       "      <td>21</td>\n",
       "      <td>37</td>\n",
       "      <td>82</td>\n",
       "      <td>315</td>\n",
       "      <td>2</td>\n",
       "    </tr>\n",
       "    <tr>\n",
       "      <th>575</th>\n",
       "      <td>6</td>\n",
       "      <td>121</td>\n",
       "      <td>22</td>\n",
       "      <td>21</td>\n",
       "      <td>128</td>\n",
       "      <td>76</td>\n",
       "      <td>337</td>\n",
       "      <td>10</td>\n",
       "    </tr>\n",
       "  </tbody>\n",
       "</table>\n",
       "<p>576 rows × 8 columns</p>\n",
       "</div>"
      ],
      "text/plain": [
       "     Pregnancies  Glucose  BloodPressure  SkinThickness  Insulin  BMI  \\\n",
       "0             12       27             40             42       63   19   \n",
       "1             15       82             23             10       50  122   \n",
       "2             12       47             23             10       50   15   \n",
       "3              9       92             29             30      151   80   \n",
       "4             11       65             41             30       75   48   \n",
       "..           ...      ...            ...            ...      ...  ...   \n",
       "571            9       83             33             10       50  123   \n",
       "572           12       11             28             11       65   31   \n",
       "573            9       70             33              1       47  103   \n",
       "574           11       40             26             21       37   82   \n",
       "575            6      121             22             21      128   76   \n",
       "\n",
       "     DiabetesPedigreeFunction  Age  \n",
       "0                         139   38  \n",
       "1                         236   20  \n",
       "2                         277   35  \n",
       "3                          51   11  \n",
       "4                         241   16  \n",
       "..                        ...  ...  \n",
       "571                       348   16  \n",
       "572                       278   37  \n",
       "573                       123   17  \n",
       "574                       315    2  \n",
       "575                       337   10  \n",
       "\n",
       "[576 rows x 8 columns]"
      ]
     },
     "execution_count": 33,
     "metadata": {},
     "output_type": "execute_result"
    }
   ],
   "source": [
    "from sklearn import preprocessing\n",
    "import pandas as pd\n",
    "\n",
    "# Assuming your DataFrame is named df\n",
    "# Replace 'target_column' with the actual column name you want to encode\n",
    "columns_to_encode = ['Pregnancies',\t'Glucose',\t'BloodPressure',\t'SkinThickness',\t'Insulin'\t,'BMI','DiabetesPedigreeFunction','Age']\n",
    "\n",
    "# Create a label encoder object\n",
    "label_encoder = preprocessing.LabelEncoder()\n",
    "\n",
    "# Encode labels in each specified column\n",
    "for column in columns_to_encode:\n",
    "    encrypted_df[column] = label_encoder.fit_transform(encrypted_df[column])\n",
    "    \n",
    "encrypted_df\n"
   ]
  },
  {
   "cell_type": "code",
   "execution_count": 34,
   "metadata": {},
   "outputs": [
    {
     "data": {
      "text/html": [
       "<div>\n",
       "<style scoped>\n",
       "    .dataframe tbody tr th:only-of-type {\n",
       "        vertical-align: middle;\n",
       "    }\n",
       "\n",
       "    .dataframe tbody tr th {\n",
       "        vertical-align: top;\n",
       "    }\n",
       "\n",
       "    .dataframe thead th {\n",
       "        text-align: right;\n",
       "    }\n",
       "</style>\n",
       "<table border=\"1\" class=\"dataframe\">\n",
       "  <thead>\n",
       "    <tr style=\"text-align: right;\">\n",
       "      <th></th>\n",
       "      <th>Outcome</th>\n",
       "    </tr>\n",
       "  </thead>\n",
       "  <tbody>\n",
       "    <tr>\n",
       "      <th>0</th>\n",
       "      <td>1</td>\n",
       "    </tr>\n",
       "    <tr>\n",
       "      <th>1</th>\n",
       "      <td>0</td>\n",
       "    </tr>\n",
       "    <tr>\n",
       "      <th>2</th>\n",
       "      <td>1</td>\n",
       "    </tr>\n",
       "    <tr>\n",
       "      <th>3</th>\n",
       "      <td>1</td>\n",
       "    </tr>\n",
       "    <tr>\n",
       "      <th>4</th>\n",
       "      <td>0</td>\n",
       "    </tr>\n",
       "    <tr>\n",
       "      <th>...</th>\n",
       "      <td>...</td>\n",
       "    </tr>\n",
       "    <tr>\n",
       "      <th>571</th>\n",
       "      <td>0</td>\n",
       "    </tr>\n",
       "    <tr>\n",
       "      <th>572</th>\n",
       "      <td>1</td>\n",
       "    </tr>\n",
       "    <tr>\n",
       "      <th>573</th>\n",
       "      <td>0</td>\n",
       "    </tr>\n",
       "    <tr>\n",
       "      <th>574</th>\n",
       "      <td>0</td>\n",
       "    </tr>\n",
       "    <tr>\n",
       "      <th>575</th>\n",
       "      <td>0</td>\n",
       "    </tr>\n",
       "  </tbody>\n",
       "</table>\n",
       "<p>576 rows × 1 columns</p>\n",
       "</div>"
      ],
      "text/plain": [
       "     Outcome\n",
       "0          1\n",
       "1          0\n",
       "2          1\n",
       "3          1\n",
       "4          0\n",
       "..       ...\n",
       "571        0\n",
       "572        1\n",
       "573        0\n",
       "574        0\n",
       "575        0\n",
       "\n",
       "[576 rows x 1 columns]"
      ]
     },
     "execution_count": 34,
     "metadata": {},
     "output_type": "execute_result"
    }
   ],
   "source": [
    "dfY = pd.read_csv(r\"D:\\All pdf\\semester 8\\DATA SECURITY AND PRIVACY\\project\\Django-ml-Healthcare-Prediction-Website-main\\data\\Diabetes_YTrain.csv\")\n",
    "dfY"
   ]
  },
  {
   "cell_type": "code",
   "execution_count": 35,
   "metadata": {},
   "outputs": [],
   "source": [
    "X = encrypted_df[['Pregnancies',\t'Glucose',\t'BloodPressure',\t'SkinThickness',\t'Insulin'\t,'BMI','DiabetesPedigreeFunction','Age']]\n",
    "Y = dfY['Outcome']"
   ]
  },
  {
   "cell_type": "code",
   "execution_count": 36,
   "metadata": {},
   "outputs": [],
   "source": [
    "import pandas as pd\n",
    "from sklearn.model_selection import train_test_split\n",
    "from sklearn.linear_model import LogisticRegression\n",
    "from sklearn.metrics import accuracy_score\n",
    "from cryptography.hazmat.primitives.ciphers import Cipher, algorithms, modes\n",
    "from cryptography.hazmat.backends import default_backend\n"
   ]
  },
  {
   "cell_type": "code",
   "execution_count": 37,
   "metadata": {},
   "outputs": [],
   "source": [
    "X_train, X_test, Y_train, Y_test = train_test_split(X, Y, test_size=0.5, random_state=42)\n"
   ]
  },
  {
   "cell_type": "code",
   "execution_count": 52,
   "metadata": {},
   "outputs": [
    {
     "data": {
      "text/html": [
       "<style>#sk-container-id-4 {color: black;}#sk-container-id-4 pre{padding: 0;}#sk-container-id-4 div.sk-toggleable {background-color: white;}#sk-container-id-4 label.sk-toggleable__label {cursor: pointer;display: block;width: 100%;margin-bottom: 0;padding: 0.3em;box-sizing: border-box;text-align: center;}#sk-container-id-4 label.sk-toggleable__label-arrow:before {content: \"▸\";float: left;margin-right: 0.25em;color: #696969;}#sk-container-id-4 label.sk-toggleable__label-arrow:hover:before {color: black;}#sk-container-id-4 div.sk-estimator:hover label.sk-toggleable__label-arrow:before {color: black;}#sk-container-id-4 div.sk-toggleable__content {max-height: 0;max-width: 0;overflow: hidden;text-align: left;background-color: #f0f8ff;}#sk-container-id-4 div.sk-toggleable__content pre {margin: 0.2em;color: black;border-radius: 0.25em;background-color: #f0f8ff;}#sk-container-id-4 input.sk-toggleable__control:checked~div.sk-toggleable__content {max-height: 200px;max-width: 100%;overflow: auto;}#sk-container-id-4 input.sk-toggleable__control:checked~label.sk-toggleable__label-arrow:before {content: \"▾\";}#sk-container-id-4 div.sk-estimator input.sk-toggleable__control:checked~label.sk-toggleable__label {background-color: #d4ebff;}#sk-container-id-4 div.sk-label input.sk-toggleable__control:checked~label.sk-toggleable__label {background-color: #d4ebff;}#sk-container-id-4 input.sk-hidden--visually {border: 0;clip: rect(1px 1px 1px 1px);clip: rect(1px, 1px, 1px, 1px);height: 1px;margin: -1px;overflow: hidden;padding: 0;position: absolute;width: 1px;}#sk-container-id-4 div.sk-estimator {font-family: monospace;background-color: #f0f8ff;border: 1px dotted black;border-radius: 0.25em;box-sizing: border-box;margin-bottom: 0.5em;}#sk-container-id-4 div.sk-estimator:hover {background-color: #d4ebff;}#sk-container-id-4 div.sk-parallel-item::after {content: \"\";width: 100%;border-bottom: 1px solid gray;flex-grow: 1;}#sk-container-id-4 div.sk-label:hover label.sk-toggleable__label {background-color: #d4ebff;}#sk-container-id-4 div.sk-serial::before {content: \"\";position: absolute;border-left: 1px solid gray;box-sizing: border-box;top: 0;bottom: 0;left: 50%;z-index: 0;}#sk-container-id-4 div.sk-serial {display: flex;flex-direction: column;align-items: center;background-color: white;padding-right: 0.2em;padding-left: 0.2em;position: relative;}#sk-container-id-4 div.sk-item {position: relative;z-index: 1;}#sk-container-id-4 div.sk-parallel {display: flex;align-items: stretch;justify-content: center;background-color: white;position: relative;}#sk-container-id-4 div.sk-item::before, #sk-container-id-4 div.sk-parallel-item::before {content: \"\";position: absolute;border-left: 1px solid gray;box-sizing: border-box;top: 0;bottom: 0;left: 50%;z-index: -1;}#sk-container-id-4 div.sk-parallel-item {display: flex;flex-direction: column;z-index: 1;position: relative;background-color: white;}#sk-container-id-4 div.sk-parallel-item:first-child::after {align-self: flex-end;width: 50%;}#sk-container-id-4 div.sk-parallel-item:last-child::after {align-self: flex-start;width: 50%;}#sk-container-id-4 div.sk-parallel-item:only-child::after {width: 0;}#sk-container-id-4 div.sk-dashed-wrapped {border: 1px dashed gray;margin: 0 0.4em 0.5em 0.4em;box-sizing: border-box;padding-bottom: 0.4em;background-color: white;}#sk-container-id-4 div.sk-label label {font-family: monospace;font-weight: bold;display: inline-block;line-height: 1.2em;}#sk-container-id-4 div.sk-label-container {text-align: center;}#sk-container-id-4 div.sk-container {/* jupyter's `normalize.less` sets `[hidden] { display: none; }` but bootstrap.min.css set `[hidden] { display: none !important; }` so we also need the `!important` here to be able to override the default hidden behavior on the sphinx rendered scikit-learn.org. See: https://github.com/scikit-learn/scikit-learn/issues/21755 */display: inline-block !important;position: relative;}#sk-container-id-4 div.sk-text-repr-fallback {display: none;}</style><div id=\"sk-container-id-4\" class=\"sk-top-container\"><div class=\"sk-text-repr-fallback\"><pre>KNeighborsClassifier(n_neighbors=3)</pre><b>In a Jupyter environment, please rerun this cell to show the HTML representation or trust the notebook. <br />On GitHub, the HTML representation is unable to render, please try loading this page with nbviewer.org.</b></div><div class=\"sk-container\" hidden><div class=\"sk-item\"><div class=\"sk-estimator sk-toggleable\"><input class=\"sk-toggleable__control sk-hidden--visually\" id=\"sk-estimator-id-4\" type=\"checkbox\" checked><label for=\"sk-estimator-id-4\" class=\"sk-toggleable__label sk-toggleable__label-arrow\">KNeighborsClassifier</label><div class=\"sk-toggleable__content\"><pre>KNeighborsClassifier(n_neighbors=3)</pre></div></div></div></div></div>"
      ],
      "text/plain": [
       "KNeighborsClassifier(n_neighbors=3)"
      ]
     },
     "execution_count": 52,
     "metadata": {},
     "output_type": "execute_result"
    }
   ],
   "source": [
    "from sklearn.neighbors import KNeighborsClassifier\n",
    "\n",
    "\n",
    "knn = KNeighborsClassifier(n_neighbors=3)\n",
    "knn.fit(X_train.values, Y_train)\n",
    "\n",
    "        "
   ]
  },
  {
   "cell_type": "code",
   "execution_count": 56,
   "metadata": {},
   "outputs": [
    {
     "name": "stderr",
     "output_type": "stream",
     "text": [
      "c:\\Users\\Gokul01\\AppData\\Local\\Programs\\Python\\Python311\\Lib\\site-packages\\sklearn\\base.py:458: UserWarning: X has feature names, but KNeighborsClassifier was fitted without feature names\n",
      "  warnings.warn(\n"
     ]
    }
   ],
   "source": [
    "predictions1 = knn.predict(X_test)\n",
    "\n",
    "        "
   ]
  },
  {
   "cell_type": "code",
   "execution_count": 57,
   "metadata": {},
   "outputs": [
    {
     "name": "stdout",
     "output_type": "stream",
     "text": [
      "Model Accuracy: 0.7222222222222222\n"
     ]
    }
   ],
   "source": [
    "# Evaluate the model\n",
    "accuracy = accuracy_score(Y_test, predictions1)\n",
    "print(f\"Model Accuracy: {accuracy}\")"
   ]
  },
  {
   "cell_type": "code",
   "execution_count": 38,
   "metadata": {},
   "outputs": [],
   "source": [
    "from sklearn.ensemble import RandomForestClassifier\n",
    "\n",
    "model = RandomForestClassifier()\n"
   ]
  },
  {
   "cell_type": "code",
   "execution_count": 39,
   "metadata": {},
   "outputs": [
    {
     "data": {
      "text/html": [
       "<style>#sk-container-id-3 {color: black;}#sk-container-id-3 pre{padding: 0;}#sk-container-id-3 div.sk-toggleable {background-color: white;}#sk-container-id-3 label.sk-toggleable__label {cursor: pointer;display: block;width: 100%;margin-bottom: 0;padding: 0.3em;box-sizing: border-box;text-align: center;}#sk-container-id-3 label.sk-toggleable__label-arrow:before {content: \"▸\";float: left;margin-right: 0.25em;color: #696969;}#sk-container-id-3 label.sk-toggleable__label-arrow:hover:before {color: black;}#sk-container-id-3 div.sk-estimator:hover label.sk-toggleable__label-arrow:before {color: black;}#sk-container-id-3 div.sk-toggleable__content {max-height: 0;max-width: 0;overflow: hidden;text-align: left;background-color: #f0f8ff;}#sk-container-id-3 div.sk-toggleable__content pre {margin: 0.2em;color: black;border-radius: 0.25em;background-color: #f0f8ff;}#sk-container-id-3 input.sk-toggleable__control:checked~div.sk-toggleable__content {max-height: 200px;max-width: 100%;overflow: auto;}#sk-container-id-3 input.sk-toggleable__control:checked~label.sk-toggleable__label-arrow:before {content: \"▾\";}#sk-container-id-3 div.sk-estimator input.sk-toggleable__control:checked~label.sk-toggleable__label {background-color: #d4ebff;}#sk-container-id-3 div.sk-label input.sk-toggleable__control:checked~label.sk-toggleable__label {background-color: #d4ebff;}#sk-container-id-3 input.sk-hidden--visually {border: 0;clip: rect(1px 1px 1px 1px);clip: rect(1px, 1px, 1px, 1px);height: 1px;margin: -1px;overflow: hidden;padding: 0;position: absolute;width: 1px;}#sk-container-id-3 div.sk-estimator {font-family: monospace;background-color: #f0f8ff;border: 1px dotted black;border-radius: 0.25em;box-sizing: border-box;margin-bottom: 0.5em;}#sk-container-id-3 div.sk-estimator:hover {background-color: #d4ebff;}#sk-container-id-3 div.sk-parallel-item::after {content: \"\";width: 100%;border-bottom: 1px solid gray;flex-grow: 1;}#sk-container-id-3 div.sk-label:hover label.sk-toggleable__label {background-color: #d4ebff;}#sk-container-id-3 div.sk-serial::before {content: \"\";position: absolute;border-left: 1px solid gray;box-sizing: border-box;top: 0;bottom: 0;left: 50%;z-index: 0;}#sk-container-id-3 div.sk-serial {display: flex;flex-direction: column;align-items: center;background-color: white;padding-right: 0.2em;padding-left: 0.2em;position: relative;}#sk-container-id-3 div.sk-item {position: relative;z-index: 1;}#sk-container-id-3 div.sk-parallel {display: flex;align-items: stretch;justify-content: center;background-color: white;position: relative;}#sk-container-id-3 div.sk-item::before, #sk-container-id-3 div.sk-parallel-item::before {content: \"\";position: absolute;border-left: 1px solid gray;box-sizing: border-box;top: 0;bottom: 0;left: 50%;z-index: -1;}#sk-container-id-3 div.sk-parallel-item {display: flex;flex-direction: column;z-index: 1;position: relative;background-color: white;}#sk-container-id-3 div.sk-parallel-item:first-child::after {align-self: flex-end;width: 50%;}#sk-container-id-3 div.sk-parallel-item:last-child::after {align-self: flex-start;width: 50%;}#sk-container-id-3 div.sk-parallel-item:only-child::after {width: 0;}#sk-container-id-3 div.sk-dashed-wrapped {border: 1px dashed gray;margin: 0 0.4em 0.5em 0.4em;box-sizing: border-box;padding-bottom: 0.4em;background-color: white;}#sk-container-id-3 div.sk-label label {font-family: monospace;font-weight: bold;display: inline-block;line-height: 1.2em;}#sk-container-id-3 div.sk-label-container {text-align: center;}#sk-container-id-3 div.sk-container {/* jupyter's `normalize.less` sets `[hidden] { display: none; }` but bootstrap.min.css set `[hidden] { display: none !important; }` so we also need the `!important` here to be able to override the default hidden behavior on the sphinx rendered scikit-learn.org. See: https://github.com/scikit-learn/scikit-learn/issues/21755 */display: inline-block !important;position: relative;}#sk-container-id-3 div.sk-text-repr-fallback {display: none;}</style><div id=\"sk-container-id-3\" class=\"sk-top-container\"><div class=\"sk-text-repr-fallback\"><pre>RandomForestClassifier()</pre><b>In a Jupyter environment, please rerun this cell to show the HTML representation or trust the notebook. <br />On GitHub, the HTML representation is unable to render, please try loading this page with nbviewer.org.</b></div><div class=\"sk-container\" hidden><div class=\"sk-item\"><div class=\"sk-estimator sk-toggleable\"><input class=\"sk-toggleable__control sk-hidden--visually\" id=\"sk-estimator-id-3\" type=\"checkbox\" checked><label for=\"sk-estimator-id-3\" class=\"sk-toggleable__label sk-toggleable__label-arrow\">RandomForestClassifier</label><div class=\"sk-toggleable__content\"><pre>RandomForestClassifier()</pre></div></div></div></div></div>"
      ],
      "text/plain": [
       "RandomForestClassifier()"
      ]
     },
     "execution_count": 39,
     "metadata": {},
     "output_type": "execute_result"
    }
   ],
   "source": [
    "model.fit(X_train.values, Y_train)\n"
   ]
  },
  {
   "cell_type": "code",
   "execution_count": 45,
   "metadata": {},
   "outputs": [
    {
     "name": "stderr",
     "output_type": "stream",
     "text": [
      "c:\\Users\\Gokul01\\AppData\\Local\\Programs\\Python\\Python311\\Lib\\site-packages\\sklearn\\base.py:458: UserWarning: X has feature names, but RandomForestClassifier was fitted without feature names\n",
      "  warnings.warn(\n"
     ]
    }
   ],
   "source": [
    "predictions = model.predict(X_test)"
   ]
  },
  {
   "cell_type": "code",
   "execution_count": 46,
   "metadata": {},
   "outputs": [
    {
     "name": "stdout",
     "output_type": "stream",
     "text": [
      "Model Accuracy: 0.7222222222222222\n"
     ]
    }
   ],
   "source": [
    "# Evaluate the model\n",
    "accuracy = accuracy_score(Y_test, predictions)\n",
    "print(f\"Model Accuracy: {accuracy}\")"
   ]
  },
  {
   "cell_type": "code",
   "execution_count": 59,
   "metadata": {},
   "outputs": [],
   "source": [
    "import numpy as np\n",
    "\n",
    "X1 = np.array([7,168,88,42,321,38.2,0.787,40]).reshape(1, -1)\n"
   ]
  },
  {
   "cell_type": "code",
   "execution_count": 61,
   "metadata": {},
   "outputs": [
    {
     "name": "stdout",
     "output_type": "stream",
     "text": [
      "[0]\n"
     ]
    }
   ],
   "source": [
    "predictions1 = model.predict(X1)\n",
    "print(predictions)"
   ]
  },
  {
   "cell_type": "code",
   "execution_count": 58,
   "metadata": {},
   "outputs": [
    {
     "data": {
      "text/plain": [
       "['kdata.joblib']"
      ]
     },
     "execution_count": 58,
     "metadata": {},
     "output_type": "execute_result"
    }
   ],
   "source": [
    "import joblib  # or you can use pickle\n",
    "\n",
    "# Save the fitted encoder to a file\n",
    "joblib.dump(knn, 'kdata.joblib')"
   ]
  },
  {
   "cell_type": "code",
   "execution_count": 50,
   "metadata": {},
   "outputs": [
    {
     "data": {
      "text/plain": [
       "['la.joblib']"
      ]
     },
     "execution_count": 50,
     "metadata": {},
     "output_type": "execute_result"
    }
   ],
   "source": [
    "import joblib  # or you can use pickle\n",
    "\n",
    "\n",
    "\n",
    "\n",
    "# Save the fitted encoder to a file\n",
    "joblib.dump(label_encoder, 'la.joblib')"
   ]
  }
 ],
 "metadata": {
  "kernelspec": {
   "display_name": "Python 3",
   "language": "python",
   "name": "python3"
  },
  "language_info": {
   "codemirror_mode": {
    "name": "ipython",
    "version": 3
   },
   "file_extension": ".py",
   "mimetype": "text/x-python",
   "name": "python",
   "nbconvert_exporter": "python",
   "pygments_lexer": "ipython3",
   "version": "3.11.5"
  }
 },
 "nbformat": 4,
 "nbformat_minor": 2
}
